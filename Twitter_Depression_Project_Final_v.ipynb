{
  "nbformat": 4,
  "nbformat_minor": 0,
  "metadata": {
    "colab": {
      "name": "Twitter Depression Project - Final v",
      "provenance": [],
      "collapsed_sections": [],
      "toc_visible": true,
      "authorship_tag": "ABX9TyMYgw0x4h+ktSedd04ZIA5d",
      "include_colab_link": true
    },
    "kernelspec": {
      "name": "python3",
      "display_name": "Python 3"
    }
  },
  "cells": [
    {
      "cell_type": "markdown",
      "metadata": {
        "id": "view-in-github",
        "colab_type": "text"
      },
      "source": [
        "<a href=\"https://colab.research.google.com/github/CristianMihalceanu/NLP-Project/blob/main/Twitter_Depression_Project_Final_v.ipynb\" target=\"_parent\"><img src=\"https://colab.research.google.com/assets/colab-badge.svg\" alt=\"Open In Colab\"/></a>"
      ]
    },
    {
      "cell_type": "markdown",
      "metadata": {
        "id": "2gveM6o5XP7O"
      },
      "source": [
        "# Twitter Depression NLP project"
      ]
    },
    {
      "cell_type": "markdown",
      "metadata": {
        "id": "pmi47qVQXjgZ"
      },
      "source": [
        "## General Findings\n",
        " \n",
        "Prevention is oftentimes considered to be the medicine for any medical condition. The question that ignited this project was:\n",
        "\" How can one be prevented from committing suicide? \"\n",
        " \n",
        "The person that is suffering usually leaves behind a final message. If we can interpret the meassage soon enough, then we might have a better chance of preventing suicides.\n",
        "\n",
        "Below, with an accuracy of 75% is was possible to predict whether the person who wrote a certain message suffers from depression or not. \n",
        "\n",
        "Interesting findings along the way have been that depressed individuals tend to write longer messages ( >150 words ) than \"healthy\" people, or use significantly less verbs throughout what they say.  "
      ]
    },
    {
      "cell_type": "markdown",
      "metadata": {
        "id": "LE6ngRkPZUpK"
      },
      "source": [
        "## Gathering the data"
      ]
    },
    {
      "cell_type": "markdown",
      "metadata": {
        "id": "Y2QXZuF9ZaK2"
      },
      "source": [
        "Data was collected from \"Sentiment140 dataset with 1.6 million tweets\" dataset on Kaggle: https://www.kaggle.com/kazanova/sentiment140\n",
        " and later further engineered by me"
      ]
    },
    {
      "cell_type": "code",
      "metadata": {
        "id": "jtWXoJ3I1oRW"
      },
      "source": [
        "import pandas as pd"
      ],
      "execution_count": null,
      "outputs": []
    },
    {
      "cell_type": "code",
      "metadata": {
        "id": "CrtKTurv1qU7"
      },
      "source": [
        "df=pd.read_excel('Registru1.xlsx')"
      ],
      "execution_count": null,
      "outputs": []
    },
    {
      "cell_type": "markdown",
      "metadata": {
        "id": "lAKuWcoTZ2GG"
      },
      "source": [
        "Let's take a look at our dataset:"
      ]
    },
    {
      "cell_type": "code",
      "metadata": {
        "colab": {
          "base_uri": "https://localhost:8080/",
          "height": 404
        },
        "id": "r8n6pdp21sSd",
        "outputId": "f114e85a-6138-439f-d24a-e6ff841c9c72"
      },
      "source": [
        "df.head(-5)"
      ],
      "execution_count": null,
      "outputs": [
        {
          "output_type": "execute_result",
          "data": {
            "text/html": [
              "<div>\n",
              "<style scoped>\n",
              "    .dataframe tbody tr th:only-of-type {\n",
              "        vertical-align: middle;\n",
              "    }\n",
              "\n",
              "    .dataframe tbody tr th {\n",
              "        vertical-align: top;\n",
              "    }\n",
              "\n",
              "    .dataframe thead th {\n",
              "        text-align: right;\n",
              "    }\n",
              "</style>\n",
              "<table border=\"1\" class=\"dataframe\">\n",
              "  <thead>\n",
              "    <tr style=\"text-align: right;\">\n",
              "      <th></th>\n",
              "      <th>Depression</th>\n",
              "      <th>ID</th>\n",
              "      <th>Time</th>\n",
              "      <th>Username</th>\n",
              "      <th>Text</th>\n",
              "    </tr>\n",
              "  </thead>\n",
              "  <tbody>\n",
              "    <tr>\n",
              "      <th>0</th>\n",
              "      <td>0</td>\n",
              "      <td>2260767020</td>\n",
              "      <td>Sat Jun 20 19:44:29 PDT 2009</td>\n",
              "      <td>madsylvester</td>\n",
              "      <td>I actually got a rockin' gift for @Chauncey_Dr...</td>\n",
              "    </tr>\n",
              "    <tr>\n",
              "      <th>1</th>\n",
              "      <td>0</td>\n",
              "      <td>2260767397</td>\n",
              "      <td>Sat Jun 20 19:44:31 PDT 2009</td>\n",
              "      <td>mssslee</td>\n",
              "      <td>im sooo tired and i havent really done anythin...</td>\n",
              "    </tr>\n",
              "    <tr>\n",
              "      <th>2</th>\n",
              "      <td>0</td>\n",
              "      <td>2260767994</td>\n",
              "      <td>Sat Jun 20 19:44:34 PDT 2009</td>\n",
              "      <td>BrentLauren</td>\n",
              "      <td>@SweetLeafCEO 10pm sucks. Sorrie</td>\n",
              "    </tr>\n",
              "    <tr>\n",
              "      <th>3</th>\n",
              "      <td>0</td>\n",
              "      <td>2260768735</td>\n",
              "      <td>Sat Jun 20 19:44:38 PDT 2009</td>\n",
              "      <td>tarheelprincess</td>\n",
              "      <td>@MOCAShop Wow, normally a Ferrell fan. This ma...</td>\n",
              "    </tr>\n",
              "    <tr>\n",
              "      <th>4</th>\n",
              "      <td>0</td>\n",
              "      <td>2260769159</td>\n",
              "      <td>Sat Jun 20 19:44:40 PDT 2009</td>\n",
              "      <td>FRaphael</td>\n",
              "      <td>Kinda peeved that I missed all the good food</td>\n",
              "    </tr>\n",
              "    <tr>\n",
              "      <th>...</th>\n",
              "      <td>...</td>\n",
              "      <td>...</td>\n",
              "      <td>...</td>\n",
              "      <td>...</td>\n",
              "      <td>...</td>\n",
              "    </tr>\n",
              "    <tr>\n",
              "      <th>159991</th>\n",
              "      <td>4</td>\n",
              "      <td>1685554451</td>\n",
              "      <td>Sun May 03 00:55:27 PDT 2009</td>\n",
              "      <td>juliadrab</td>\n",
              "      <td>is loving the new Jonas show &amp;lt;3 ITS A COLAN...</td>\n",
              "    </tr>\n",
              "    <tr>\n",
              "      <th>159992</th>\n",
              "      <td>4</td>\n",
              "      <td>1685554530</td>\n",
              "      <td>Sun May 03 00:55:28 PDT 2009</td>\n",
              "      <td>skiippiie</td>\n",
              "      <td>yay im finally going to be able to drive soon ...</td>\n",
              "    </tr>\n",
              "    <tr>\n",
              "      <th>159993</th>\n",
              "      <td>4</td>\n",
              "      <td>1685554532</td>\n",
              "      <td>Sun May 03 00:55:28 PDT 2009</td>\n",
              "      <td>ashleyny</td>\n",
              "      <td>I'm weird. Deal with it.</td>\n",
              "    </tr>\n",
              "    <tr>\n",
              "      <th>159994</th>\n",
              "      <td>4</td>\n",
              "      <td>1685554666</td>\n",
              "      <td>Sun May 03 00:55:30 PDT 2009</td>\n",
              "      <td>hesa</td>\n",
              "      <td>@HurphyDurphy oh honey, you'll find one..   ha...</td>\n",
              "    </tr>\n",
              "    <tr>\n",
              "      <th>159995</th>\n",
              "      <td>4</td>\n",
              "      <td>1685554676</td>\n",
              "      <td>Sun May 03 00:55:30 PDT 2009</td>\n",
              "      <td>JordanOverboard</td>\n",
              "      <td>Agh!! I love blink!!!</td>\n",
              "    </tr>\n",
              "  </tbody>\n",
              "</table>\n",
              "<p>159996 rows × 5 columns</p>\n",
              "</div>"
            ],
            "text/plain": [
              "        Depression  ...                                               Text\n",
              "0                0  ...  I actually got a rockin' gift for @Chauncey_Dr...\n",
              "1                0  ...  im sooo tired and i havent really done anythin...\n",
              "2                0  ...                  @SweetLeafCEO 10pm sucks. Sorrie \n",
              "3                0  ...  @MOCAShop Wow, normally a Ferrell fan. This ma...\n",
              "4                0  ...      Kinda peeved that I missed all the good food \n",
              "...            ...  ...                                                ...\n",
              "159991           4  ...  is loving the new Jonas show &lt;3 ITS A COLAN...\n",
              "159992           4  ...  yay im finally going to be able to drive soon ...\n",
              "159993           4  ...                          I'm weird. Deal with it. \n",
              "159994           4  ...  @HurphyDurphy oh honey, you'll find one..   ha...\n",
              "159995           4  ...                             Agh!! I love blink!!! \n",
              "\n",
              "[159996 rows x 5 columns]"
            ]
          },
          "metadata": {
            "tags": []
          },
          "execution_count": 3
        }
      ]
    },
    {
      "cell_type": "code",
      "metadata": {
        "colab": {
          "base_uri": "https://localhost:8080/"
        },
        "id": "2UA34jAE2Bex",
        "outputId": "f26c1819-6072-4111-fc93-c761e7e10654"
      },
      "source": [
        "df.info()"
      ],
      "execution_count": null,
      "outputs": [
        {
          "output_type": "stream",
          "text": [
            "<class 'pandas.core.frame.DataFrame'>\n",
            "RangeIndex: 160001 entries, 0 to 160000\n",
            "Data columns (total 5 columns):\n",
            " #   Column      Non-Null Count   Dtype \n",
            "---  ------      --------------   ----- \n",
            " 0   Depression  160001 non-null  int64 \n",
            " 1   ID          160001 non-null  int64 \n",
            " 2   Time        160001 non-null  object\n",
            " 3   Username    160001 non-null  object\n",
            " 4   Text        159975 non-null  object\n",
            "dtypes: int64(2), object(3)\n",
            "memory usage: 6.1+ MB\n"
          ],
          "name": "stdout"
        }
      ]
    },
    {
      "cell_type": "code",
      "metadata": {
        "colab": {
          "base_uri": "https://localhost:8080/",
          "height": 107
        },
        "id": "JgmRCR_53Lzv",
        "outputId": "b17a410d-caf7-4e66-fdac-71378a213ffd"
      },
      "source": [
        "df.describe().transpose()"
      ],
      "execution_count": null,
      "outputs": [
        {
          "output_type": "execute_result",
          "data": {
            "text/html": [
              "<div>\n",
              "<style scoped>\n",
              "    .dataframe tbody tr th:only-of-type {\n",
              "        vertical-align: middle;\n",
              "    }\n",
              "\n",
              "    .dataframe tbody tr th {\n",
              "        vertical-align: top;\n",
              "    }\n",
              "\n",
              "    .dataframe thead th {\n",
              "        text-align: right;\n",
              "    }\n",
              "</style>\n",
              "<table border=\"1\" class=\"dataframe\">\n",
              "  <thead>\n",
              "    <tr style=\"text-align: right;\">\n",
              "      <th></th>\n",
              "      <th>count</th>\n",
              "      <th>mean</th>\n",
              "      <th>std</th>\n",
              "      <th>min</th>\n",
              "      <th>25%</th>\n",
              "      <th>50%</th>\n",
              "      <th>75%</th>\n",
              "      <th>max</th>\n",
              "    </tr>\n",
              "  </thead>\n",
              "  <tbody>\n",
              "    <tr>\n",
              "      <th>Depression</th>\n",
              "      <td>160001.0</td>\n",
              "      <td>1.999988e+00</td>\n",
              "      <td>2.000006e+00</td>\n",
              "      <td>0.000000e+00</td>\n",
              "      <td>0.000000e+00</td>\n",
              "      <td>0.000000e+00</td>\n",
              "      <td>4.000000e+00</td>\n",
              "      <td>4.000000e+00</td>\n",
              "    </tr>\n",
              "    <tr>\n",
              "      <th>ID</th>\n",
              "      <td>160001.0</td>\n",
              "      <td>1.936544e+09</td>\n",
              "      <td>3.618259e+08</td>\n",
              "      <td>1.467822e+09</td>\n",
              "      <td>1.559611e+09</td>\n",
              "      <td>2.260767e+09</td>\n",
              "      <td>2.296459e+09</td>\n",
              "      <td>2.329206e+09</td>\n",
              "    </tr>\n",
              "  </tbody>\n",
              "</table>\n",
              "</div>"
            ],
            "text/plain": [
              "               count          mean  ...           75%           max\n",
              "Depression  160001.0  1.999988e+00  ...  4.000000e+00  4.000000e+00\n",
              "ID          160001.0  1.936544e+09  ...  2.296459e+09  2.329206e+09\n",
              "\n",
              "[2 rows x 8 columns]"
            ]
          },
          "metadata": {
            "tags": []
          },
          "execution_count": 5
        }
      ]
    },
    {
      "cell_type": "code",
      "metadata": {
        "colab": {
          "base_uri": "https://localhost:8080/"
        },
        "id": "iHMR44_o3PpZ",
        "outputId": "278d0286-f39d-4223-c533-492a7e6d9202"
      },
      "source": [
        "df['Depression'].value_counts()"
      ],
      "execution_count": null,
      "outputs": [
        {
          "output_type": "execute_result",
          "data": {
            "text/plain": [
              "0    80001\n",
              "4    80000\n",
              "Name: Depression, dtype: int64"
            ]
          },
          "metadata": {
            "tags": []
          },
          "execution_count": 6
        }
      ]
    },
    {
      "cell_type": "code",
      "metadata": {
        "colab": {
          "base_uri": "https://localhost:8080/"
        },
        "id": "BiBFPVH24NYE",
        "outputId": "badec616-7ee8-462f-8b6a-cd6fa614f96e"
      },
      "source": [
        "df.dtypes"
      ],
      "execution_count": null,
      "outputs": [
        {
          "output_type": "execute_result",
          "data": {
            "text/plain": [
              "Depression     int64\n",
              "ID             int64\n",
              "Time          object\n",
              "Username      object\n",
              "Text          object\n",
              "dtype: object"
            ]
          },
          "metadata": {
            "tags": []
          },
          "execution_count": 7
        }
      ]
    },
    {
      "cell_type": "markdown",
      "metadata": {
        "id": "WCHytneJbDae"
      },
      "source": [
        "## Feature Generation"
      ]
    },
    {
      "cell_type": "code",
      "metadata": {
        "colab": {
          "base_uri": "https://localhost:8080/"
        },
        "id": "sfKX9mAN3WLw",
        "outputId": "c873ed0b-a874-4627-ee43-af8d0d5e941c"
      },
      "source": [
        "df['Time']=pd.to_datetime(df['Time'])"
      ],
      "execution_count": null,
      "outputs": [
        {
          "output_type": "stream",
          "text": [
            "/usr/local/lib/python3.6/dist-packages/dateutil/parser/_parser.py:1218: UnknownTimezoneWarning: tzname PDT identified but not understood.  Pass `tzinfos` argument in order to correctly return a timezone-aware datetime.  In a future version, this will raise an exception.\n",
            "  category=UnknownTimezoneWarning)\n"
          ],
          "name": "stderr"
        }
      ]
    },
    {
      "cell_type": "code",
      "metadata": {
        "colab": {
          "base_uri": "https://localhost:8080/"
        },
        "id": "1ZUihpF54IAH",
        "outputId": "15df69ba-d8ba-44b9-c053-7fd4f0b4f2eb"
      },
      "source": [
        "df.dtypes"
      ],
      "execution_count": null,
      "outputs": [
        {
          "output_type": "execute_result",
          "data": {
            "text/plain": [
              "Depression             int64\n",
              "ID                     int64\n",
              "Time          datetime64[ns]\n",
              "Username              object\n",
              "Text                  object\n",
              "dtype: object"
            ]
          },
          "metadata": {
            "tags": []
          },
          "execution_count": 9
        }
      ]
    },
    {
      "cell_type": "markdown",
      "metadata": {
        "id": "Png9PwbbaHLo"
      },
      "source": [
        "Seing how the Time column now consists of datetime objects, we can call certain attributes off of it to generate new features"
      ]
    },
    {
      "cell_type": "code",
      "metadata": {
        "id": "2ieLu5BP4lbM"
      },
      "source": [
        "df['hour']=df['Time'].apply(lambda x:x.hour)"
      ],
      "execution_count": null,
      "outputs": []
    },
    {
      "cell_type": "code",
      "metadata": {
        "colab": {
          "base_uri": "https://localhost:8080/"
        },
        "id": "Jp05RXEW4rsz",
        "outputId": "8f886ee3-3e0a-47a4-952f-998a39be06d5"
      },
      "source": [
        "df['hour']"
      ],
      "execution_count": null,
      "outputs": [
        {
          "output_type": "execute_result",
          "data": {
            "text/plain": [
              "0         19\n",
              "1         19\n",
              "2         19\n",
              "3         19\n",
              "4         19\n",
              "          ..\n",
              "159996     0\n",
              "159997     0\n",
              "159998     0\n",
              "159999     0\n",
              "160000     0\n",
              "Name: hour, Length: 160001, dtype: int64"
            ]
          },
          "metadata": {
            "tags": []
          },
          "execution_count": 11
        }
      ]
    },
    {
      "cell_type": "code",
      "metadata": {
        "id": "me6bR9k94zMp"
      },
      "source": [
        "df['minute']=df['Time'].apply(lambda x:x.minute)\n",
        "df['seconds']=df['Time'].apply(lambda x:x.second)\n",
        "df['month']=df['Time'].apply(lambda x:x.month)\n",
        "df['day']=df['Time'].apply(lambda x:x.day)\n"
      ],
      "execution_count": null,
      "outputs": []
    },
    {
      "cell_type": "code",
      "metadata": {
        "colab": {
          "base_uri": "https://localhost:8080/",
          "height": 572
        },
        "id": "gjbee1IcHPIN",
        "outputId": "f7912004-6422-4976-a810-d0d0957e3007"
      },
      "source": [
        "df.head(-5)"
      ],
      "execution_count": null,
      "outputs": [
        {
          "output_type": "execute_result",
          "data": {
            "text/html": [
              "<div>\n",
              "<style scoped>\n",
              "    .dataframe tbody tr th:only-of-type {\n",
              "        vertical-align: middle;\n",
              "    }\n",
              "\n",
              "    .dataframe tbody tr th {\n",
              "        vertical-align: top;\n",
              "    }\n",
              "\n",
              "    .dataframe thead th {\n",
              "        text-align: right;\n",
              "    }\n",
              "</style>\n",
              "<table border=\"1\" class=\"dataframe\">\n",
              "  <thead>\n",
              "    <tr style=\"text-align: right;\">\n",
              "      <th></th>\n",
              "      <th>Depression</th>\n",
              "      <th>ID</th>\n",
              "      <th>Time</th>\n",
              "      <th>Username</th>\n",
              "      <th>Text</th>\n",
              "      <th>hour</th>\n",
              "      <th>minute</th>\n",
              "      <th>seconds</th>\n",
              "      <th>month</th>\n",
              "      <th>day</th>\n",
              "    </tr>\n",
              "  </thead>\n",
              "  <tbody>\n",
              "    <tr>\n",
              "      <th>0</th>\n",
              "      <td>0</td>\n",
              "      <td>2260767020</td>\n",
              "      <td>2009-06-20 19:44:29</td>\n",
              "      <td>madsylvester</td>\n",
              "      <td>I actually got a rockin' gift for @Chauncey_Dr...</td>\n",
              "      <td>19</td>\n",
              "      <td>44</td>\n",
              "      <td>29</td>\n",
              "      <td>6</td>\n",
              "      <td>20</td>\n",
              "    </tr>\n",
              "    <tr>\n",
              "      <th>1</th>\n",
              "      <td>0</td>\n",
              "      <td>2260767397</td>\n",
              "      <td>2009-06-20 19:44:31</td>\n",
              "      <td>mssslee</td>\n",
              "      <td>im sooo tired and i havent really done anythin...</td>\n",
              "      <td>19</td>\n",
              "      <td>44</td>\n",
              "      <td>31</td>\n",
              "      <td>6</td>\n",
              "      <td>20</td>\n",
              "    </tr>\n",
              "    <tr>\n",
              "      <th>2</th>\n",
              "      <td>0</td>\n",
              "      <td>2260767994</td>\n",
              "      <td>2009-06-20 19:44:34</td>\n",
              "      <td>BrentLauren</td>\n",
              "      <td>@SweetLeafCEO 10pm sucks. Sorrie</td>\n",
              "      <td>19</td>\n",
              "      <td>44</td>\n",
              "      <td>34</td>\n",
              "      <td>6</td>\n",
              "      <td>20</td>\n",
              "    </tr>\n",
              "    <tr>\n",
              "      <th>3</th>\n",
              "      <td>0</td>\n",
              "      <td>2260768735</td>\n",
              "      <td>2009-06-20 19:44:38</td>\n",
              "      <td>tarheelprincess</td>\n",
              "      <td>@MOCAShop Wow, normally a Ferrell fan. This ma...</td>\n",
              "      <td>19</td>\n",
              "      <td>44</td>\n",
              "      <td>38</td>\n",
              "      <td>6</td>\n",
              "      <td>20</td>\n",
              "    </tr>\n",
              "    <tr>\n",
              "      <th>4</th>\n",
              "      <td>0</td>\n",
              "      <td>2260769159</td>\n",
              "      <td>2009-06-20 19:44:40</td>\n",
              "      <td>FRaphael</td>\n",
              "      <td>Kinda peeved that I missed all the good food</td>\n",
              "      <td>19</td>\n",
              "      <td>44</td>\n",
              "      <td>40</td>\n",
              "      <td>6</td>\n",
              "      <td>20</td>\n",
              "    </tr>\n",
              "    <tr>\n",
              "      <th>...</th>\n",
              "      <td>...</td>\n",
              "      <td>...</td>\n",
              "      <td>...</td>\n",
              "      <td>...</td>\n",
              "      <td>...</td>\n",
              "      <td>...</td>\n",
              "      <td>...</td>\n",
              "      <td>...</td>\n",
              "      <td>...</td>\n",
              "      <td>...</td>\n",
              "    </tr>\n",
              "    <tr>\n",
              "      <th>159991</th>\n",
              "      <td>4</td>\n",
              "      <td>1685554451</td>\n",
              "      <td>2009-05-03 00:55:27</td>\n",
              "      <td>juliadrab</td>\n",
              "      <td>is loving the new Jonas show &amp;lt;3 ITS A COLAN...</td>\n",
              "      <td>0</td>\n",
              "      <td>55</td>\n",
              "      <td>27</td>\n",
              "      <td>5</td>\n",
              "      <td>3</td>\n",
              "    </tr>\n",
              "    <tr>\n",
              "      <th>159992</th>\n",
              "      <td>4</td>\n",
              "      <td>1685554530</td>\n",
              "      <td>2009-05-03 00:55:28</td>\n",
              "      <td>skiippiie</td>\n",
              "      <td>yay im finally going to be able to drive soon ...</td>\n",
              "      <td>0</td>\n",
              "      <td>55</td>\n",
              "      <td>28</td>\n",
              "      <td>5</td>\n",
              "      <td>3</td>\n",
              "    </tr>\n",
              "    <tr>\n",
              "      <th>159993</th>\n",
              "      <td>4</td>\n",
              "      <td>1685554532</td>\n",
              "      <td>2009-05-03 00:55:28</td>\n",
              "      <td>ashleyny</td>\n",
              "      <td>I'm weird. Deal with it.</td>\n",
              "      <td>0</td>\n",
              "      <td>55</td>\n",
              "      <td>28</td>\n",
              "      <td>5</td>\n",
              "      <td>3</td>\n",
              "    </tr>\n",
              "    <tr>\n",
              "      <th>159994</th>\n",
              "      <td>4</td>\n",
              "      <td>1685554666</td>\n",
              "      <td>2009-05-03 00:55:30</td>\n",
              "      <td>hesa</td>\n",
              "      <td>@HurphyDurphy oh honey, you'll find one..   ha...</td>\n",
              "      <td>0</td>\n",
              "      <td>55</td>\n",
              "      <td>30</td>\n",
              "      <td>5</td>\n",
              "      <td>3</td>\n",
              "    </tr>\n",
              "    <tr>\n",
              "      <th>159995</th>\n",
              "      <td>4</td>\n",
              "      <td>1685554676</td>\n",
              "      <td>2009-05-03 00:55:30</td>\n",
              "      <td>JordanOverboard</td>\n",
              "      <td>Agh!! I love blink!!!</td>\n",
              "      <td>0</td>\n",
              "      <td>55</td>\n",
              "      <td>30</td>\n",
              "      <td>5</td>\n",
              "      <td>3</td>\n",
              "    </tr>\n",
              "  </tbody>\n",
              "</table>\n",
              "<p>159996 rows × 10 columns</p>\n",
              "</div>"
            ],
            "text/plain": [
              "        Depression          ID                Time  ... seconds month  day\n",
              "0                0  2260767020 2009-06-20 19:44:29  ...      29     6   20\n",
              "1                0  2260767397 2009-06-20 19:44:31  ...      31     6   20\n",
              "2                0  2260767994 2009-06-20 19:44:34  ...      34     6   20\n",
              "3                0  2260768735 2009-06-20 19:44:38  ...      38     6   20\n",
              "4                0  2260769159 2009-06-20 19:44:40  ...      40     6   20\n",
              "...            ...         ...                 ...  ...     ...   ...  ...\n",
              "159991           4  1685554451 2009-05-03 00:55:27  ...      27     5    3\n",
              "159992           4  1685554530 2009-05-03 00:55:28  ...      28     5    3\n",
              "159993           4  1685554532 2009-05-03 00:55:28  ...      28     5    3\n",
              "159994           4  1685554666 2009-05-03 00:55:30  ...      30     5    3\n",
              "159995           4  1685554676 2009-05-03 00:55:30  ...      30     5    3\n",
              "\n",
              "[159996 rows x 10 columns]"
            ]
          },
          "metadata": {
            "tags": []
          },
          "execution_count": 13
        }
      ]
    },
    {
      "cell_type": "markdown",
      "metadata": {
        "id": "fMAQUJPHaYUe"
      },
      "source": [
        "Perhaps one of the most important aspects of a written message is its length:"
      ]
    },
    {
      "cell_type": "code",
      "metadata": {
        "id": "_hRuC87_Iood"
      },
      "source": [
        "df['length']=df['Text'].apply(lambda x: len(str(x)))"
      ],
      "execution_count": null,
      "outputs": []
    },
    {
      "cell_type": "markdown",
      "metadata": {
        "id": "ACS8l-xzonv8"
      },
      "source": [
        "Visualizing the results through a plot will take place in the EDA section"
      ]
    },
    {
      "cell_type": "code",
      "metadata": {
        "colab": {
          "base_uri": "https://localhost:8080/",
          "height": 572
        },
        "id": "8_n73bF9I4AI",
        "outputId": "20107d03-a0e6-4de9-b513-980e5ef7b33b"
      },
      "source": [
        "df"
      ],
      "execution_count": null,
      "outputs": [
        {
          "output_type": "execute_result",
          "data": {
            "text/html": [
              "<div>\n",
              "<style scoped>\n",
              "    .dataframe tbody tr th:only-of-type {\n",
              "        vertical-align: middle;\n",
              "    }\n",
              "\n",
              "    .dataframe tbody tr th {\n",
              "        vertical-align: top;\n",
              "    }\n",
              "\n",
              "    .dataframe thead th {\n",
              "        text-align: right;\n",
              "    }\n",
              "</style>\n",
              "<table border=\"1\" class=\"dataframe\">\n",
              "  <thead>\n",
              "    <tr style=\"text-align: right;\">\n",
              "      <th></th>\n",
              "      <th>Depression</th>\n",
              "      <th>ID</th>\n",
              "      <th>Time</th>\n",
              "      <th>Username</th>\n",
              "      <th>Text</th>\n",
              "      <th>hour</th>\n",
              "      <th>minute</th>\n",
              "      <th>seconds</th>\n",
              "      <th>month</th>\n",
              "      <th>day</th>\n",
              "      <th>length</th>\n",
              "    </tr>\n",
              "  </thead>\n",
              "  <tbody>\n",
              "    <tr>\n",
              "      <th>0</th>\n",
              "      <td>0</td>\n",
              "      <td>2260767020</td>\n",
              "      <td>2009-06-20 19:44:29</td>\n",
              "      <td>madsylvester</td>\n",
              "      <td>I actually got a rockin' gift for @Chauncey_Dr...</td>\n",
              "      <td>19</td>\n",
              "      <td>44</td>\n",
              "      <td>29</td>\n",
              "      <td>6</td>\n",
              "      <td>20</td>\n",
              "      <td>120</td>\n",
              "    </tr>\n",
              "    <tr>\n",
              "      <th>1</th>\n",
              "      <td>0</td>\n",
              "      <td>2260767397</td>\n",
              "      <td>2009-06-20 19:44:31</td>\n",
              "      <td>mssslee</td>\n",
              "      <td>im sooo tired and i havent really done anythin...</td>\n",
              "      <td>19</td>\n",
              "      <td>44</td>\n",
              "      <td>31</td>\n",
              "      <td>6</td>\n",
              "      <td>20</td>\n",
              "      <td>124</td>\n",
              "    </tr>\n",
              "    <tr>\n",
              "      <th>2</th>\n",
              "      <td>0</td>\n",
              "      <td>2260767994</td>\n",
              "      <td>2009-06-20 19:44:34</td>\n",
              "      <td>BrentLauren</td>\n",
              "      <td>@SweetLeafCEO 10pm sucks. Sorrie</td>\n",
              "      <td>19</td>\n",
              "      <td>44</td>\n",
              "      <td>34</td>\n",
              "      <td>6</td>\n",
              "      <td>20</td>\n",
              "      <td>33</td>\n",
              "    </tr>\n",
              "    <tr>\n",
              "      <th>3</th>\n",
              "      <td>0</td>\n",
              "      <td>2260768735</td>\n",
              "      <td>2009-06-20 19:44:38</td>\n",
              "      <td>tarheelprincess</td>\n",
              "      <td>@MOCAShop Wow, normally a Ferrell fan. This ma...</td>\n",
              "      <td>19</td>\n",
              "      <td>44</td>\n",
              "      <td>38</td>\n",
              "      <td>6</td>\n",
              "      <td>20</td>\n",
              "      <td>130</td>\n",
              "    </tr>\n",
              "    <tr>\n",
              "      <th>4</th>\n",
              "      <td>0</td>\n",
              "      <td>2260769159</td>\n",
              "      <td>2009-06-20 19:44:40</td>\n",
              "      <td>FRaphael</td>\n",
              "      <td>Kinda peeved that I missed all the good food</td>\n",
              "      <td>19</td>\n",
              "      <td>44</td>\n",
              "      <td>40</td>\n",
              "      <td>6</td>\n",
              "      <td>20</td>\n",
              "      <td>45</td>\n",
              "    </tr>\n",
              "    <tr>\n",
              "      <th>...</th>\n",
              "      <td>...</td>\n",
              "      <td>...</td>\n",
              "      <td>...</td>\n",
              "      <td>...</td>\n",
              "      <td>...</td>\n",
              "      <td>...</td>\n",
              "      <td>...</td>\n",
              "      <td>...</td>\n",
              "      <td>...</td>\n",
              "      <td>...</td>\n",
              "      <td>...</td>\n",
              "    </tr>\n",
              "    <tr>\n",
              "      <th>159996</th>\n",
              "      <td>4</td>\n",
              "      <td>1685554684</td>\n",
              "      <td>2009-05-03 00:55:31</td>\n",
              "      <td>Heidi_vb</td>\n",
              "      <td>morn all, waitin 4 the sun 2 reappear, so cool...</td>\n",
              "      <td>0</td>\n",
              "      <td>55</td>\n",
              "      <td>31</td>\n",
              "      <td>5</td>\n",
              "      <td>3</td>\n",
              "      <td>133</td>\n",
              "    </tr>\n",
              "    <tr>\n",
              "      <th>159997</th>\n",
              "      <td>4</td>\n",
              "      <td>1685554730</td>\n",
              "      <td>2009-05-03 00:55:31</td>\n",
              "      <td>KrissyJill</td>\n",
              "      <td>Why am I still up at 3am? Good grief and good ...</td>\n",
              "      <td>0</td>\n",
              "      <td>55</td>\n",
              "      <td>31</td>\n",
              "      <td>5</td>\n",
              "      <td>3</td>\n",
              "      <td>53</td>\n",
              "    </tr>\n",
              "    <tr>\n",
              "      <th>159998</th>\n",
              "      <td>4</td>\n",
              "      <td>1685554798</td>\n",
              "      <td>2009-05-03 00:55:32</td>\n",
              "      <td>dwmoook</td>\n",
              "      <td>Morning world.  Taking my parents out for a me...</td>\n",
              "      <td>0</td>\n",
              "      <td>55</td>\n",
              "      <td>32</td>\n",
              "      <td>5</td>\n",
              "      <td>3</td>\n",
              "      <td>129</td>\n",
              "    </tr>\n",
              "    <tr>\n",
              "      <th>159999</th>\n",
              "      <td>4</td>\n",
              "      <td>1685554800</td>\n",
              "      <td>2009-05-03 00:55:32</td>\n",
              "      <td>chastinevegas</td>\n",
              "      <td>drive ins are fun...just saying.</td>\n",
              "      <td>0</td>\n",
              "      <td>55</td>\n",
              "      <td>32</td>\n",
              "      <td>5</td>\n",
              "      <td>3</td>\n",
              "      <td>33</td>\n",
              "    </tr>\n",
              "    <tr>\n",
              "      <th>160000</th>\n",
              "      <td>4</td>\n",
              "      <td>1685554911</td>\n",
              "      <td>2009-05-03 00:55:34</td>\n",
              "      <td>bearyhwang</td>\n",
              "      <td>i like my twitter page background</td>\n",
              "      <td>0</td>\n",
              "      <td>55</td>\n",
              "      <td>34</td>\n",
              "      <td>5</td>\n",
              "      <td>3</td>\n",
              "      <td>34</td>\n",
              "    </tr>\n",
              "  </tbody>\n",
              "</table>\n",
              "<p>160001 rows × 11 columns</p>\n",
              "</div>"
            ],
            "text/plain": [
              "        Depression          ID                Time  ... month day  length\n",
              "0                0  2260767020 2009-06-20 19:44:29  ...     6  20     120\n",
              "1                0  2260767397 2009-06-20 19:44:31  ...     6  20     124\n",
              "2                0  2260767994 2009-06-20 19:44:34  ...     6  20      33\n",
              "3                0  2260768735 2009-06-20 19:44:38  ...     6  20     130\n",
              "4                0  2260769159 2009-06-20 19:44:40  ...     6  20      45\n",
              "...            ...         ...                 ...  ...   ...  ..     ...\n",
              "159996           4  1685554684 2009-05-03 00:55:31  ...     5   3     133\n",
              "159997           4  1685554730 2009-05-03 00:55:31  ...     5   3      53\n",
              "159998           4  1685554798 2009-05-03 00:55:32  ...     5   3     129\n",
              "159999           4  1685554800 2009-05-03 00:55:32  ...     5   3      33\n",
              "160000           4  1685554911 2009-05-03 00:55:34  ...     5   3      34\n",
              "\n",
              "[160001 rows x 11 columns]"
            ]
          },
          "metadata": {
            "tags": []
          },
          "execution_count": 15
        }
      ]
    },
    {
      "cell_type": "code",
      "metadata": {
        "colab": {
          "base_uri": "https://localhost:8080/"
        },
        "id": "smfN2Zf5JBiX",
        "outputId": "43cf10dc-f7dd-4049-c27e-7c57859cfbba"
      },
      "source": [
        "len(df['Text'][0])"
      ],
      "execution_count": null,
      "outputs": [
        {
          "output_type": "execute_result",
          "data": {
            "text/plain": [
              "120"
            ]
          },
          "metadata": {
            "tags": []
          },
          "execution_count": 16
        }
      ]
    },
    {
      "cell_type": "code",
      "metadata": {
        "id": "V5XXnoduJGX4"
      },
      "source": [
        "def explicit(x):\n",
        "  if x==0:\n",
        "    return \"Fine\"\n",
        "  else: \n",
        "    return \"Depressed\""
      ],
      "execution_count": null,
      "outputs": []
    },
    {
      "cell_type": "code",
      "metadata": {
        "id": "0OAPz4ke2lwb"
      },
      "source": [
        "df['Condition']=df['Depression'].apply(explicit)"
      ],
      "execution_count": null,
      "outputs": []
    },
    {
      "cell_type": "code",
      "metadata": {
        "colab": {
          "base_uri": "https://localhost:8080/",
          "height": 756
        },
        "id": "guewQtR02tes",
        "outputId": "5b3e38dc-ed31-43fd-a819-a89e8ef8c1a6"
      },
      "source": [
        "df.head(-5)"
      ],
      "execution_count": null,
      "outputs": [
        {
          "output_type": "execute_result",
          "data": {
            "text/html": [
              "<div>\n",
              "<style scoped>\n",
              "    .dataframe tbody tr th:only-of-type {\n",
              "        vertical-align: middle;\n",
              "    }\n",
              "\n",
              "    .dataframe tbody tr th {\n",
              "        vertical-align: top;\n",
              "    }\n",
              "\n",
              "    .dataframe thead th {\n",
              "        text-align: right;\n",
              "    }\n",
              "</style>\n",
              "<table border=\"1\" class=\"dataframe\">\n",
              "  <thead>\n",
              "    <tr style=\"text-align: right;\">\n",
              "      <th></th>\n",
              "      <th>Depression</th>\n",
              "      <th>ID</th>\n",
              "      <th>Time</th>\n",
              "      <th>Username</th>\n",
              "      <th>Text</th>\n",
              "      <th>hour</th>\n",
              "      <th>minute</th>\n",
              "      <th>seconds</th>\n",
              "      <th>month</th>\n",
              "      <th>day</th>\n",
              "      <th>length</th>\n",
              "      <th>Condition</th>\n",
              "    </tr>\n",
              "  </thead>\n",
              "  <tbody>\n",
              "    <tr>\n",
              "      <th>0</th>\n",
              "      <td>0</td>\n",
              "      <td>2260767020</td>\n",
              "      <td>2009-06-20 19:44:29</td>\n",
              "      <td>madsylvester</td>\n",
              "      <td>I actually got a rockin' gift for @Chauncey_Dr...</td>\n",
              "      <td>19</td>\n",
              "      <td>44</td>\n",
              "      <td>29</td>\n",
              "      <td>6</td>\n",
              "      <td>20</td>\n",
              "      <td>120</td>\n",
              "      <td>Fine</td>\n",
              "    </tr>\n",
              "    <tr>\n",
              "      <th>1</th>\n",
              "      <td>0</td>\n",
              "      <td>2260767397</td>\n",
              "      <td>2009-06-20 19:44:31</td>\n",
              "      <td>mssslee</td>\n",
              "      <td>im sooo tired and i havent really done anythin...</td>\n",
              "      <td>19</td>\n",
              "      <td>44</td>\n",
              "      <td>31</td>\n",
              "      <td>6</td>\n",
              "      <td>20</td>\n",
              "      <td>124</td>\n",
              "      <td>Fine</td>\n",
              "    </tr>\n",
              "    <tr>\n",
              "      <th>2</th>\n",
              "      <td>0</td>\n",
              "      <td>2260767994</td>\n",
              "      <td>2009-06-20 19:44:34</td>\n",
              "      <td>BrentLauren</td>\n",
              "      <td>@SweetLeafCEO 10pm sucks. Sorrie</td>\n",
              "      <td>19</td>\n",
              "      <td>44</td>\n",
              "      <td>34</td>\n",
              "      <td>6</td>\n",
              "      <td>20</td>\n",
              "      <td>33</td>\n",
              "      <td>Fine</td>\n",
              "    </tr>\n",
              "    <tr>\n",
              "      <th>3</th>\n",
              "      <td>0</td>\n",
              "      <td>2260768735</td>\n",
              "      <td>2009-06-20 19:44:38</td>\n",
              "      <td>tarheelprincess</td>\n",
              "      <td>@MOCAShop Wow, normally a Ferrell fan. This ma...</td>\n",
              "      <td>19</td>\n",
              "      <td>44</td>\n",
              "      <td>38</td>\n",
              "      <td>6</td>\n",
              "      <td>20</td>\n",
              "      <td>130</td>\n",
              "      <td>Fine</td>\n",
              "    </tr>\n",
              "    <tr>\n",
              "      <th>4</th>\n",
              "      <td>0</td>\n",
              "      <td>2260769159</td>\n",
              "      <td>2009-06-20 19:44:40</td>\n",
              "      <td>FRaphael</td>\n",
              "      <td>Kinda peeved that I missed all the good food</td>\n",
              "      <td>19</td>\n",
              "      <td>44</td>\n",
              "      <td>40</td>\n",
              "      <td>6</td>\n",
              "      <td>20</td>\n",
              "      <td>45</td>\n",
              "      <td>Fine</td>\n",
              "    </tr>\n",
              "    <tr>\n",
              "      <th>...</th>\n",
              "      <td>...</td>\n",
              "      <td>...</td>\n",
              "      <td>...</td>\n",
              "      <td>...</td>\n",
              "      <td>...</td>\n",
              "      <td>...</td>\n",
              "      <td>...</td>\n",
              "      <td>...</td>\n",
              "      <td>...</td>\n",
              "      <td>...</td>\n",
              "      <td>...</td>\n",
              "      <td>...</td>\n",
              "    </tr>\n",
              "    <tr>\n",
              "      <th>159991</th>\n",
              "      <td>4</td>\n",
              "      <td>1685554451</td>\n",
              "      <td>2009-05-03 00:55:27</td>\n",
              "      <td>juliadrab</td>\n",
              "      <td>is loving the new Jonas show &amp;lt;3 ITS A COLAN...</td>\n",
              "      <td>0</td>\n",
              "      <td>55</td>\n",
              "      <td>27</td>\n",
              "      <td>5</td>\n",
              "      <td>3</td>\n",
              "      <td>98</td>\n",
              "      <td>Depressed</td>\n",
              "    </tr>\n",
              "    <tr>\n",
              "      <th>159992</th>\n",
              "      <td>4</td>\n",
              "      <td>1685554530</td>\n",
              "      <td>2009-05-03 00:55:28</td>\n",
              "      <td>skiippiie</td>\n",
              "      <td>yay im finally going to be able to drive soon ...</td>\n",
              "      <td>0</td>\n",
              "      <td>55</td>\n",
              "      <td>28</td>\n",
              "      <td>5</td>\n",
              "      <td>3</td>\n",
              "      <td>83</td>\n",
              "      <td>Depressed</td>\n",
              "    </tr>\n",
              "    <tr>\n",
              "      <th>159993</th>\n",
              "      <td>4</td>\n",
              "      <td>1685554532</td>\n",
              "      <td>2009-05-03 00:55:28</td>\n",
              "      <td>ashleyny</td>\n",
              "      <td>I'm weird. Deal with it.</td>\n",
              "      <td>0</td>\n",
              "      <td>55</td>\n",
              "      <td>28</td>\n",
              "      <td>5</td>\n",
              "      <td>3</td>\n",
              "      <td>25</td>\n",
              "      <td>Depressed</td>\n",
              "    </tr>\n",
              "    <tr>\n",
              "      <th>159994</th>\n",
              "      <td>4</td>\n",
              "      <td>1685554666</td>\n",
              "      <td>2009-05-03 00:55:30</td>\n",
              "      <td>hesa</td>\n",
              "      <td>@HurphyDurphy oh honey, you'll find one..   ha...</td>\n",
              "      <td>0</td>\n",
              "      <td>55</td>\n",
              "      <td>30</td>\n",
              "      <td>5</td>\n",
              "      <td>3</td>\n",
              "      <td>126</td>\n",
              "      <td>Depressed</td>\n",
              "    </tr>\n",
              "    <tr>\n",
              "      <th>159995</th>\n",
              "      <td>4</td>\n",
              "      <td>1685554676</td>\n",
              "      <td>2009-05-03 00:55:30</td>\n",
              "      <td>JordanOverboard</td>\n",
              "      <td>Agh!! I love blink!!!</td>\n",
              "      <td>0</td>\n",
              "      <td>55</td>\n",
              "      <td>30</td>\n",
              "      <td>5</td>\n",
              "      <td>3</td>\n",
              "      <td>22</td>\n",
              "      <td>Depressed</td>\n",
              "    </tr>\n",
              "  </tbody>\n",
              "</table>\n",
              "<p>159996 rows × 12 columns</p>\n",
              "</div>"
            ],
            "text/plain": [
              "        Depression          ID                Time  ... day length  Condition\n",
              "0                0  2260767020 2009-06-20 19:44:29  ...  20    120       Fine\n",
              "1                0  2260767397 2009-06-20 19:44:31  ...  20    124       Fine\n",
              "2                0  2260767994 2009-06-20 19:44:34  ...  20     33       Fine\n",
              "3                0  2260768735 2009-06-20 19:44:38  ...  20    130       Fine\n",
              "4                0  2260769159 2009-06-20 19:44:40  ...  20     45       Fine\n",
              "...            ...         ...                 ...  ...  ..    ...        ...\n",
              "159991           4  1685554451 2009-05-03 00:55:27  ...   3     98  Depressed\n",
              "159992           4  1685554530 2009-05-03 00:55:28  ...   3     83  Depressed\n",
              "159993           4  1685554532 2009-05-03 00:55:28  ...   3     25  Depressed\n",
              "159994           4  1685554666 2009-05-03 00:55:30  ...   3    126  Depressed\n",
              "159995           4  1685554676 2009-05-03 00:55:30  ...   3     22  Depressed\n",
              "\n",
              "[159996 rows x 12 columns]"
            ]
          },
          "metadata": {
            "tags": []
          },
          "execution_count": 19
        }
      ]
    },
    {
      "cell_type": "code",
      "metadata": {
        "id": "NMrBYf8w2uxb"
      },
      "source": [
        "df.drop(['Depression',\t'ID',\t'Time',\t'Username'],inplace=True,axis=1)"
      ],
      "execution_count": null,
      "outputs": []
    },
    {
      "cell_type": "markdown",
      "metadata": {
        "id": "RkuvJFp4amrG"
      },
      "source": [
        "After dropping columns which are no longer useful to us, let's proceed to checking if a message consists of just a blank space"
      ]
    },
    {
      "cell_type": "code",
      "metadata": {
        "id": "_cuX2QAi3qci"
      },
      "source": [
        "blank_tweets=[]\n",
        "\n",
        "for index, t ,hour, min, sec, month, d, length, C in df.itertuples():\n",
        "  if type(t)==str:\n",
        "    if t.isspace():\n",
        "      blank_tweets.append(index)"
      ],
      "execution_count": null,
      "outputs": []
    },
    {
      "cell_type": "code",
      "metadata": {
        "colab": {
          "base_uri": "https://localhost:8080/"
        },
        "id": "_bl6GK3R394N",
        "outputId": "30340db3-b4e2-4c9b-af3f-03467dc80ed7"
      },
      "source": [
        "len(blank_tweets)\n",
        "# df.drop(blank_tweets,inplace=True)"
      ],
      "execution_count": null,
      "outputs": [
        {
          "output_type": "execute_result",
          "data": {
            "text/plain": [
              "0"
            ]
          },
          "metadata": {
            "tags": []
          },
          "execution_count": 22
        }
      ]
    },
    {
      "cell_type": "markdown",
      "metadata": {
        "id": "glF6ko9bo8BZ"
      },
      "source": [
        "Fortunately, this is not the case in our dataset"
      ]
    },
    {
      "cell_type": "markdown",
      "metadata": {
        "id": "rqUTLDJ0a_UV"
      },
      "source": [
        "## EDA"
      ]
    },
    {
      "cell_type": "markdown",
      "metadata": {
        "id": "xu_8E8FSp4db"
      },
      "source": [
        "In the cell below, we import Spacy, the Natural Language Processing library and later we extract a random text message "
      ]
    },
    {
      "cell_type": "code",
      "metadata": {
        "colab": {
          "base_uri": "https://localhost:8080/"
        },
        "id": "jorqd1hm4smB",
        "outputId": "43cb2a97-1e71-4685-c8eb-bba0f94bf4cc"
      },
      "source": [
        "import random\n",
        "random_index=random.randint(0,160000)\n",
        "\n",
        "import spacy\n",
        "nlp=spacy.load('en_core_web_sm')\n",
        "from spacy import displacy\n",
        "\n",
        "doc=nlp(df['Text'][random_index])\n",
        "print(doc)"
      ],
      "execution_count": null,
      "outputs": [
        {
          "output_type": "stream",
          "text": [
            "my first time on twitter!!! \n"
          ],
          "name": "stdout"
        }
      ]
    },
    {
      "cell_type": "code",
      "metadata": {
        "colab": {
          "base_uri": "https://localhost:8080/"
        },
        "id": "x3fK_okqJ87B",
        "outputId": "6ed1c10d-63ac-4f90-bbf8-c78f474d747d"
      },
      "source": [
        "random_index #64345 #93717 #148978 #96957"
      ],
      "execution_count": null,
      "outputs": [
        {
          "output_type": "execute_result",
          "data": {
            "text/plain": [
              "131224"
            ]
          },
          "metadata": {
            "tags": []
          },
          "execution_count": 24
        }
      ]
    },
    {
      "cell_type": "markdown",
      "metadata": {
        "id": "QzfKI7YT8Ssg"
      },
      "source": [
        "After playing around for a bit, we stumbled upon message #148978, which is representative for nowadays young generation"
      ]
    },
    {
      "cell_type": "code",
      "metadata": {
        "id": "3Src2zefqpIo"
      },
      "source": [
        "# why do twitter pictures have to be so damn small ?!"
      ],
      "execution_count": null,
      "outputs": []
    },
    {
      "cell_type": "markdown",
      "metadata": {
        "id": "xA2gIul28j2Z"
      },
      "source": [
        "Spacy is able to recognize the tokens within our Doc"
      ]
    },
    {
      "cell_type": "code",
      "metadata": {
        "colab": {
          "base_uri": "https://localhost:8080/"
        },
        "id": "t8agDV4VLiOm",
        "outputId": "9f9aa9de-feb6-4e37-ab7f-6b65d501279b"
      },
      "source": [
        "doc=nlp(df['Text'][148978])\n",
        "print(doc)\n",
        "\n",
        "for token in doc:\n",
        "  print(token.text)"
      ],
      "execution_count": null,
      "outputs": [
        {
          "output_type": "stream",
          "text": [
            "why do twitter pictures have to be so damn small ?! \n",
            "why\n",
            "do\n",
            "twitter\n",
            "pictures\n",
            "have\n",
            "to\n",
            "be\n",
            "so\n",
            "damn\n",
            "small\n",
            "?\n",
            "!\n"
          ],
          "name": "stdout"
        }
      ]
    },
    {
      "cell_type": "markdown",
      "metadata": {
        "id": "u2678Kq48r_I"
      },
      "source": [
        "Let's explore the morphological relations between obtained tokens"
      ]
    },
    {
      "cell_type": "code",
      "metadata": {
        "colab": {
          "base_uri": "https://localhost:8080/",
          "height": 528
        },
        "id": "6csIptS6M8W1",
        "outputId": "81fcd70a-13d5-4a62-9b5c-c2788146a28e"
      },
      "source": [
        "displacy.render(doc,jupyter=True,style='dep')"
      ],
      "execution_count": null,
      "outputs": [
        {
          "output_type": "display_data",
          "data": {
            "text/html": [
              "<span class=\"tex2jax_ignore\"><svg xmlns=\"http://www.w3.org/2000/svg\" xmlns:xlink=\"http://www.w3.org/1999/xlink\" xml:lang=\"en\" id=\"e081ee938c024a61936b1022a6f22325-0\" class=\"displacy\" width=\"1800\" height=\"487.0\" direction=\"ltr\" style=\"max-width: none; height: 487.0px; color: #000000; background: #ffffff; font-family: Arial; direction: ltr\">\n",
              "<text class=\"displacy-token\" fill=\"currentColor\" text-anchor=\"middle\" y=\"397.0\">\n",
              "    <tspan class=\"displacy-word\" fill=\"currentColor\" x=\"50\">why</tspan>\n",
              "    <tspan class=\"displacy-tag\" dy=\"2em\" fill=\"currentColor\" x=\"50\">ADV</tspan>\n",
              "</text>\n",
              "\n",
              "<text class=\"displacy-token\" fill=\"currentColor\" text-anchor=\"middle\" y=\"397.0\">\n",
              "    <tspan class=\"displacy-word\" fill=\"currentColor\" x=\"225\">do</tspan>\n",
              "    <tspan class=\"displacy-tag\" dy=\"2em\" fill=\"currentColor\" x=\"225\">AUX</tspan>\n",
              "</text>\n",
              "\n",
              "<text class=\"displacy-token\" fill=\"currentColor\" text-anchor=\"middle\" y=\"397.0\">\n",
              "    <tspan class=\"displacy-word\" fill=\"currentColor\" x=\"400\">twitter</tspan>\n",
              "    <tspan class=\"displacy-tag\" dy=\"2em\" fill=\"currentColor\" x=\"400\">ADJ</tspan>\n",
              "</text>\n",
              "\n",
              "<text class=\"displacy-token\" fill=\"currentColor\" text-anchor=\"middle\" y=\"397.0\">\n",
              "    <tspan class=\"displacy-word\" fill=\"currentColor\" x=\"575\">pictures</tspan>\n",
              "    <tspan class=\"displacy-tag\" dy=\"2em\" fill=\"currentColor\" x=\"575\">NOUN</tspan>\n",
              "</text>\n",
              "\n",
              "<text class=\"displacy-token\" fill=\"currentColor\" text-anchor=\"middle\" y=\"397.0\">\n",
              "    <tspan class=\"displacy-word\" fill=\"currentColor\" x=\"750\">have</tspan>\n",
              "    <tspan class=\"displacy-tag\" dy=\"2em\" fill=\"currentColor\" x=\"750\">AUX</tspan>\n",
              "</text>\n",
              "\n",
              "<text class=\"displacy-token\" fill=\"currentColor\" text-anchor=\"middle\" y=\"397.0\">\n",
              "    <tspan class=\"displacy-word\" fill=\"currentColor\" x=\"925\">to</tspan>\n",
              "    <tspan class=\"displacy-tag\" dy=\"2em\" fill=\"currentColor\" x=\"925\">PART</tspan>\n",
              "</text>\n",
              "\n",
              "<text class=\"displacy-token\" fill=\"currentColor\" text-anchor=\"middle\" y=\"397.0\">\n",
              "    <tspan class=\"displacy-word\" fill=\"currentColor\" x=\"1100\">be</tspan>\n",
              "    <tspan class=\"displacy-tag\" dy=\"2em\" fill=\"currentColor\" x=\"1100\">AUX</tspan>\n",
              "</text>\n",
              "\n",
              "<text class=\"displacy-token\" fill=\"currentColor\" text-anchor=\"middle\" y=\"397.0\">\n",
              "    <tspan class=\"displacy-word\" fill=\"currentColor\" x=\"1275\">so</tspan>\n",
              "    <tspan class=\"displacy-tag\" dy=\"2em\" fill=\"currentColor\" x=\"1275\">ADV</tspan>\n",
              "</text>\n",
              "\n",
              "<text class=\"displacy-token\" fill=\"currentColor\" text-anchor=\"middle\" y=\"397.0\">\n",
              "    <tspan class=\"displacy-word\" fill=\"currentColor\" x=\"1450\">damn</tspan>\n",
              "    <tspan class=\"displacy-tag\" dy=\"2em\" fill=\"currentColor\" x=\"1450\">ADV</tspan>\n",
              "</text>\n",
              "\n",
              "<text class=\"displacy-token\" fill=\"currentColor\" text-anchor=\"middle\" y=\"397.0\">\n",
              "    <tspan class=\"displacy-word\" fill=\"currentColor\" x=\"1625\">small ?!</tspan>\n",
              "    <tspan class=\"displacy-tag\" dy=\"2em\" fill=\"currentColor\" x=\"1625\">ADJ</tspan>\n",
              "</text>\n",
              "\n",
              "<g class=\"displacy-arrow\">\n",
              "    <path class=\"displacy-arc\" id=\"arrow-e081ee938c024a61936b1022a6f22325-0-0\" stroke-width=\"2px\" d=\"M70,352.0 C70,2.0 750.0,2.0 750.0,352.0\" fill=\"none\" stroke=\"currentColor\"/>\n",
              "    <text dy=\"1.25em\" style=\"font-size: 0.8em; letter-spacing: 1px\">\n",
              "        <textPath xlink:href=\"#arrow-e081ee938c024a61936b1022a6f22325-0-0\" class=\"displacy-label\" startOffset=\"50%\" side=\"left\" fill=\"currentColor\" text-anchor=\"middle\">advmod</textPath>\n",
              "    </text>\n",
              "    <path class=\"displacy-arrowhead\" d=\"M70,354.0 L62,342.0 78,342.0\" fill=\"currentColor\"/>\n",
              "</g>\n",
              "\n",
              "<g class=\"displacy-arrow\">\n",
              "    <path class=\"displacy-arc\" id=\"arrow-e081ee938c024a61936b1022a6f22325-0-1\" stroke-width=\"2px\" d=\"M245,352.0 C245,89.5 745.0,89.5 745.0,352.0\" fill=\"none\" stroke=\"currentColor\"/>\n",
              "    <text dy=\"1.25em\" style=\"font-size: 0.8em; letter-spacing: 1px\">\n",
              "        <textPath xlink:href=\"#arrow-e081ee938c024a61936b1022a6f22325-0-1\" class=\"displacy-label\" startOffset=\"50%\" side=\"left\" fill=\"currentColor\" text-anchor=\"middle\">aux</textPath>\n",
              "    </text>\n",
              "    <path class=\"displacy-arrowhead\" d=\"M245,354.0 L237,342.0 253,342.0\" fill=\"currentColor\"/>\n",
              "</g>\n",
              "\n",
              "<g class=\"displacy-arrow\">\n",
              "    <path class=\"displacy-arc\" id=\"arrow-e081ee938c024a61936b1022a6f22325-0-2\" stroke-width=\"2px\" d=\"M420,352.0 C420,264.5 560.0,264.5 560.0,352.0\" fill=\"none\" stroke=\"currentColor\"/>\n",
              "    <text dy=\"1.25em\" style=\"font-size: 0.8em; letter-spacing: 1px\">\n",
              "        <textPath xlink:href=\"#arrow-e081ee938c024a61936b1022a6f22325-0-2\" class=\"displacy-label\" startOffset=\"50%\" side=\"left\" fill=\"currentColor\" text-anchor=\"middle\">amod</textPath>\n",
              "    </text>\n",
              "    <path class=\"displacy-arrowhead\" d=\"M420,354.0 L412,342.0 428,342.0\" fill=\"currentColor\"/>\n",
              "</g>\n",
              "\n",
              "<g class=\"displacy-arrow\">\n",
              "    <path class=\"displacy-arc\" id=\"arrow-e081ee938c024a61936b1022a6f22325-0-3\" stroke-width=\"2px\" d=\"M595,352.0 C595,264.5 735.0,264.5 735.0,352.0\" fill=\"none\" stroke=\"currentColor\"/>\n",
              "    <text dy=\"1.25em\" style=\"font-size: 0.8em; letter-spacing: 1px\">\n",
              "        <textPath xlink:href=\"#arrow-e081ee938c024a61936b1022a6f22325-0-3\" class=\"displacy-label\" startOffset=\"50%\" side=\"left\" fill=\"currentColor\" text-anchor=\"middle\">nsubj</textPath>\n",
              "    </text>\n",
              "    <path class=\"displacy-arrowhead\" d=\"M595,354.0 L587,342.0 603,342.0\" fill=\"currentColor\"/>\n",
              "</g>\n",
              "\n",
              "<g class=\"displacy-arrow\">\n",
              "    <path class=\"displacy-arc\" id=\"arrow-e081ee938c024a61936b1022a6f22325-0-4\" stroke-width=\"2px\" d=\"M945,352.0 C945,264.5 1085.0,264.5 1085.0,352.0\" fill=\"none\" stroke=\"currentColor\"/>\n",
              "    <text dy=\"1.25em\" style=\"font-size: 0.8em; letter-spacing: 1px\">\n",
              "        <textPath xlink:href=\"#arrow-e081ee938c024a61936b1022a6f22325-0-4\" class=\"displacy-label\" startOffset=\"50%\" side=\"left\" fill=\"currentColor\" text-anchor=\"middle\">aux</textPath>\n",
              "    </text>\n",
              "    <path class=\"displacy-arrowhead\" d=\"M945,354.0 L937,342.0 953,342.0\" fill=\"currentColor\"/>\n",
              "</g>\n",
              "\n",
              "<g class=\"displacy-arrow\">\n",
              "    <path class=\"displacy-arc\" id=\"arrow-e081ee938c024a61936b1022a6f22325-0-5\" stroke-width=\"2px\" d=\"M770,352.0 C770,177.0 1090.0,177.0 1090.0,352.0\" fill=\"none\" stroke=\"currentColor\"/>\n",
              "    <text dy=\"1.25em\" style=\"font-size: 0.8em; letter-spacing: 1px\">\n",
              "        <textPath xlink:href=\"#arrow-e081ee938c024a61936b1022a6f22325-0-5\" class=\"displacy-label\" startOffset=\"50%\" side=\"left\" fill=\"currentColor\" text-anchor=\"middle\">xcomp</textPath>\n",
              "    </text>\n",
              "    <path class=\"displacy-arrowhead\" d=\"M1090.0,354.0 L1098.0,342.0 1082.0,342.0\" fill=\"currentColor\"/>\n",
              "</g>\n",
              "\n",
              "<g class=\"displacy-arrow\">\n",
              "    <path class=\"displacy-arc\" id=\"arrow-e081ee938c024a61936b1022a6f22325-0-6\" stroke-width=\"2px\" d=\"M1295,352.0 C1295,177.0 1615.0,177.0 1615.0,352.0\" fill=\"none\" stroke=\"currentColor\"/>\n",
              "    <text dy=\"1.25em\" style=\"font-size: 0.8em; letter-spacing: 1px\">\n",
              "        <textPath xlink:href=\"#arrow-e081ee938c024a61936b1022a6f22325-0-6\" class=\"displacy-label\" startOffset=\"50%\" side=\"left\" fill=\"currentColor\" text-anchor=\"middle\">advmod</textPath>\n",
              "    </text>\n",
              "    <path class=\"displacy-arrowhead\" d=\"M1295,354.0 L1287,342.0 1303,342.0\" fill=\"currentColor\"/>\n",
              "</g>\n",
              "\n",
              "<g class=\"displacy-arrow\">\n",
              "    <path class=\"displacy-arc\" id=\"arrow-e081ee938c024a61936b1022a6f22325-0-7\" stroke-width=\"2px\" d=\"M1470,352.0 C1470,264.5 1610.0,264.5 1610.0,352.0\" fill=\"none\" stroke=\"currentColor\"/>\n",
              "    <text dy=\"1.25em\" style=\"font-size: 0.8em; letter-spacing: 1px\">\n",
              "        <textPath xlink:href=\"#arrow-e081ee938c024a61936b1022a6f22325-0-7\" class=\"displacy-label\" startOffset=\"50%\" side=\"left\" fill=\"currentColor\" text-anchor=\"middle\">advmod</textPath>\n",
              "    </text>\n",
              "    <path class=\"displacy-arrowhead\" d=\"M1470,354.0 L1462,342.0 1478,342.0\" fill=\"currentColor\"/>\n",
              "</g>\n",
              "\n",
              "<g class=\"displacy-arrow\">\n",
              "    <path class=\"displacy-arc\" id=\"arrow-e081ee938c024a61936b1022a6f22325-0-8\" stroke-width=\"2px\" d=\"M1120,352.0 C1120,89.5 1620.0,89.5 1620.0,352.0\" fill=\"none\" stroke=\"currentColor\"/>\n",
              "    <text dy=\"1.25em\" style=\"font-size: 0.8em; letter-spacing: 1px\">\n",
              "        <textPath xlink:href=\"#arrow-e081ee938c024a61936b1022a6f22325-0-8\" class=\"displacy-label\" startOffset=\"50%\" side=\"left\" fill=\"currentColor\" text-anchor=\"middle\">acomp</textPath>\n",
              "    </text>\n",
              "    <path class=\"displacy-arrowhead\" d=\"M1620.0,354.0 L1628.0,342.0 1612.0,342.0\" fill=\"currentColor\"/>\n",
              "</g>\n",
              "</svg></span>"
            ],
            "text/plain": [
              "<IPython.core.display.HTML object>"
            ]
          },
          "metadata": {
            "tags": []
          }
        }
      ]
    },
    {
      "cell_type": "code",
      "metadata": {
        "colab": {
          "base_uri": "https://localhost:8080/"
        },
        "id": "SeVphxP6DHt9",
        "outputId": "d3a13bf5-6692-4c3c-8b44-e9834d37bbde"
      },
      "source": [
        "doc.ents"
      ],
      "execution_count": null,
      "outputs": [
        {
          "output_type": "execute_result",
          "data": {
            "text/plain": [
              "()"
            ]
          },
          "metadata": {
            "tags": []
          },
          "execution_count": 29
        }
      ]
    },
    {
      "cell_type": "code",
      "metadata": {
        "colab": {
          "base_uri": "https://localhost:8080/",
          "height": 105
        },
        "id": "CseqlzJgA3yR",
        "outputId": "bc28d53e-d356-4c3a-b306-0851290d2de4"
      },
      "source": [
        "displacy.render(doc,jupyter=True,style='ent')"
      ],
      "execution_count": null,
      "outputs": [
        {
          "output_type": "stream",
          "text": [
            "/usr/lib/python3.6/runpy.py:193: UserWarning: [W006] No entities to visualize found in Doc object. If this is surprising to you, make sure the Doc was processed using a model that supports named entity recognition, and check the `doc.ents` property manually if necessary.\n",
            "  \"__main__\", mod_spec)\n"
          ],
          "name": "stderr"
        },
        {
          "output_type": "display_data",
          "data": {
            "text/html": [
              "<span class=\"tex2jax_ignore\"><div class=\"entities\" style=\"line-height: 2.5; direction: ltr\">why do twitter pictures have to be so damn small ?! </div></span>"
            ],
            "text/plain": [
              "<IPython.core.display.HTML object>"
            ]
          },
          "metadata": {
            "tags": []
          }
        }
      ]
    },
    {
      "cell_type": "markdown",
      "metadata": {
        "id": "bzJiBebo9CVo"
      },
      "source": [
        "It would seem that Spacy picked up no entities from our phrase. Let's improve on that, considering Twitter should be recognized as an organization"
      ]
    },
    {
      "cell_type": "code",
      "metadata": {
        "id": "EN5LtL1zBZJ9"
      },
      "source": [
        "from spacy.tokens import Span\n",
        "ORG=doc.vocab.strings[u'ORG']"
      ],
      "execution_count": null,
      "outputs": []
    },
    {
      "cell_type": "code",
      "metadata": {
        "colab": {
          "base_uri": "https://localhost:8080/"
        },
        "id": "6kei9TSOOt5h",
        "outputId": "6295e9af-a59c-4a84-f628-942a29fcdfb0"
      },
      "source": [
        "ORG"
      ],
      "execution_count": null,
      "outputs": [
        {
          "output_type": "execute_result",
          "data": {
            "text/plain": [
              "383"
            ]
          },
          "metadata": {
            "tags": []
          },
          "execution_count": 32
        }
      ]
    },
    {
      "cell_type": "code",
      "metadata": {
        "id": "gXrOf2AlOunD"
      },
      "source": [
        "new_entity=Span(doc,2,3,label=ORG)\n",
        "doc.ents=list(doc.ents)+[new_entity]"
      ],
      "execution_count": null,
      "outputs": []
    },
    {
      "cell_type": "code",
      "metadata": {
        "colab": {
          "base_uri": "https://localhost:8080/",
          "height": 52
        },
        "id": "hT2L0h-AO8lr",
        "outputId": "e28f3f6a-951a-4100-aa5f-f585eb2a8c6b"
      },
      "source": [
        "options={'colors':{'ORG':'linear-gradient(90deg,orange,turquoise)'}}\n",
        "displacy.render(doc,jupyter=True,style='ent',options=options)\n"
      ],
      "execution_count": null,
      "outputs": [
        {
          "output_type": "display_data",
          "data": {
            "text/html": [
              "<span class=\"tex2jax_ignore\"><div class=\"entities\" style=\"line-height: 2.5; direction: ltr\">why do \n",
              "<mark class=\"entity\" style=\"background: linear-gradient(90deg,orange,turquoise); padding: 0.45em 0.6em; margin: 0 0.25em; line-height: 1; border-radius: 0.35em;\">\n",
              "    twitter\n",
              "    <span style=\"font-size: 0.8em; font-weight: bold; line-height: 1; border-radius: 0.35em; text-transform: uppercase; vertical-align: middle; margin-left: 0.5rem\">ORG</span>\n",
              "</mark>\n",
              " pictures have to be so damn small ?! </div></span>"
            ],
            "text/plain": [
              "<IPython.core.display.HTML object>"
            ]
          },
          "metadata": {
            "tags": []
          }
        }
      ]
    },
    {
      "cell_type": "markdown",
      "metadata": {
        "id": "d5mrip3i9R9b"
      },
      "source": [
        "Up next, let's try to find out how many people mention it plainly that they are suffering. Let's search for useful phrases in the texts"
      ]
    },
    {
      "cell_type": "code",
      "metadata": {
        "id": "mdPNAz2OTPsT"
      },
      "source": [
        "from spacy.matcher import PhraseMatcher\n",
        "matcher=PhraseMatcher(nlp.vocab) "
      ],
      "execution_count": null,
      "outputs": []
    },
    {
      "cell_type": "code",
      "metadata": {
        "id": "ZMDtG45dYRKU"
      },
      "source": [
        "found_matches=[]"
      ],
      "execution_count": null,
      "outputs": []
    },
    {
      "cell_type": "code",
      "metadata": {
        "id": "IHFuRXbYTbtq"
      },
      "source": [
        "phrases_to_look_for=['i fell sad','feel lonely','am lonely','not hungry','is pointless','no point','am depressed','feel depressed','need help','help me']\n",
        "\n",
        "phrases=[nlp(text) for text in phrases_to_look_for]\n",
        "\n",
        "matcher.add('Depression', None,*phrases)\n",
        "\n",
        "\n",
        "for x in df['Text'][-1000:]:\n",
        "  doc1=nlp(str(x))\n",
        "  found_matches.append(matcher(doc1))\n"
      ],
      "execution_count": null,
      "outputs": []
    },
    {
      "cell_type": "code",
      "metadata": {
        "id": "DcT6KJHfYLeN"
      },
      "source": [
        "# found_matches"
      ],
      "execution_count": null,
      "outputs": []
    },
    {
      "cell_type": "code",
      "metadata": {
        "colab": {
          "base_uri": "https://localhost:8080/"
        },
        "id": "qPEbBfiuWyuD",
        "outputId": "40d71aa4-8033-4fd1-f3b3-ebd1ad5881a9"
      },
      "source": [
        "sum=0\n",
        "for i in found_matches:\n",
        "  sum+=len(i)\n",
        "print(sum)  \n",
        "\n"
      ],
      "execution_count": null,
      "outputs": [
        {
          "output_type": "stream",
          "text": [
            "1\n"
          ],
          "name": "stdout"
        }
      ]
    },
    {
      "cell_type": "markdown",
      "metadata": {
        "id": "RoQu59VC9tVJ"
      },
      "source": [
        "Out of 1000 individuals confirmed of suffering from depression, only 1 mentioned publicly how he/she feels"
      ]
    },
    {
      "cell_type": "markdown",
      "metadata": {
        "id": "gj-P4v_F92QW"
      },
      "source": [
        "Which means we'll have to search for further clues of pain and sadness"
      ]
    },
    {
      "cell_type": "markdown",
      "metadata": {
        "id": "DtOXg1DY-iHl"
      },
      "source": [
        "The next idea is to print Wordclouds for each category of individuals: those that are suffering and those that are fine and search for differences"
      ]
    },
    {
      "cell_type": "code",
      "metadata": {
        "colab": {
          "base_uri": "https://localhost:8080/"
        },
        "id": "9PvZQStjerXF",
        "outputId": "8c789449-99a8-4d2a-99ec-627f77860771"
      },
      "source": [
        "type(df['Text'][0])"
      ],
      "execution_count": null,
      "outputs": [
        {
          "output_type": "execute_result",
          "data": {
            "text/plain": [
              "str"
            ]
          },
          "metadata": {
            "tags": []
          },
          "execution_count": 41
        }
      ]
    },
    {
      "cell_type": "code",
      "metadata": {
        "colab": {
          "base_uri": "https://localhost:8080/"
        },
        "id": "HfnGPuoAhEZk",
        "outputId": "3c41ff4b-6292-4b0b-d89e-0551893eeb9c"
      },
      "source": [
        "nlp(df['Text'][10])"
      ],
      "execution_count": null,
      "outputs": [
        {
          "output_type": "execute_result",
          "data": {
            "text/plain": [
              "Last night out in Chi "
            ]
          },
          "metadata": {
            "tags": []
          },
          "execution_count": 42
        }
      ]
    },
    {
      "cell_type": "code",
      "metadata": {
        "colab": {
          "base_uri": "https://localhost:8080/"
        },
        "id": "j5AVO8awhGOK",
        "outputId": "aa34b31b-81e0-454f-d0ee-5320928303e0"
      },
      "source": [
        "type(nlp(df['Text'][10]))"
      ],
      "execution_count": null,
      "outputs": [
        {
          "output_type": "execute_result",
          "data": {
            "text/plain": [
              "spacy.tokens.doc.Doc"
            ]
          },
          "metadata": {
            "tags": []
          },
          "execution_count": 43
        }
      ]
    },
    {
      "cell_type": "code",
      "metadata": {
        "colab": {
          "base_uri": "https://localhost:8080/"
        },
        "id": "ULcZ9P_wiVNq",
        "outputId": "9c142586-7e94-48e4-d76f-bc99a077a45f"
      },
      "source": [
        "df['Text']"
      ],
      "execution_count": null,
      "outputs": [
        {
          "output_type": "execute_result",
          "data": {
            "text/plain": [
              "0         I actually got a rockin' gift for @Chauncey_Dr...\n",
              "1         im sooo tired and i havent really done anythin...\n",
              "2                         @SweetLeafCEO 10pm sucks. Sorrie \n",
              "3         @MOCAShop Wow, normally a Ferrell fan. This ma...\n",
              "4             Kinda peeved that I missed all the good food \n",
              "                                ...                        \n",
              "159996    morn all, waitin 4 the sun 2 reappear, so cool...\n",
              "159997    Why am I still up at 3am? Good grief and good ...\n",
              "159998    Morning world.  Taking my parents out for a me...\n",
              "159999                    drive ins are fun...just saying. \n",
              "160000                   i like my twitter page background \n",
              "Name: Text, Length: 160001, dtype: object"
            ]
          },
          "metadata": {
            "tags": []
          },
          "execution_count": 44
        }
      ]
    },
    {
      "cell_type": "code",
      "metadata": {
        "id": "mPZUy7LCogOb"
      },
      "source": [
        "my_string = ' '.join([str(text) for text in df['Text'][85000:95000]])"
      ],
      "execution_count": null,
      "outputs": []
    },
    {
      "cell_type": "markdown",
      "metadata": {
        "id": "FE_IRWJJ-4wg"
      },
      "source": [
        "Joining the messages into one great string makes it easier to eliminate punctuation and most common words ( stop words )"
      ]
    },
    {
      "cell_type": "code",
      "metadata": {
        "colab": {
          "base_uri": "https://localhost:8080/"
        },
        "id": "QLrAQpp_tS8C",
        "outputId": "01449091-c361-4787-eab2-2d667d4519ee"
      },
      "source": [
        "len(my_string)"
      ],
      "execution_count": null,
      "outputs": [
        {
          "output_type": "execute_result",
          "data": {
            "text/plain": [
              "761454"
            ]
          },
          "metadata": {
            "tags": []
          },
          "execution_count": 46
        }
      ]
    },
    {
      "cell_type": "code",
      "metadata": {
        "id": "ulImSI3Hgi2r"
      },
      "source": [
        "list1=[token.text.lower() for token in nlp(my_string) if token.text not in '\\n\\n \\n\\n\\n!\"-#$%&()--.*+,-/:;<=>?@[\\\\]^_`{|}~\\t\\n ']\n",
        "\n",
        "' '.join(list1)"
      ],
      "execution_count": null,
      "outputs": []
    },
    {
      "cell_type": "code",
      "metadata": {
        "id": "og9tHJKiTMGe"
      },
      "source": [
        "important_tokens=[word for word in list1 if not nlp.vocab[word].is_stop]\n",
        "\n",
        "print(important_tokens)"
      ],
      "execution_count": null,
      "outputs": []
    },
    {
      "cell_type": "code",
      "metadata": {
        "id": "5tjtw79IuDou"
      },
      "source": [
        "import wordcloud\n",
        "from wordcloud import WordCloud\n",
        "import matplotlib.pyplot as plt\n",
        "%matplotlib inline"
      ],
      "execution_count": null,
      "outputs": []
    },
    {
      "cell_type": "code",
      "metadata": {
        "colab": {
          "base_uri": "https://localhost:8080/",
          "height": 380
        },
        "id": "_AixtPziuKGC",
        "outputId": "85b5e155-274a-469b-fd39-9abda73c7ace"
      },
      "source": [
        "tokens = ' '.join(important_tokens)\n",
        "wordcloud = WordCloud(width=800,height=500,random_state=21,max_font_size=110).generate(tokens)\n",
        "plt.figure(figsize=(10,7))\n",
        "plt.imshow(wordcloud, interpolation=\"bilinear\")\n",
        "plt.axis('off')\n",
        "plt.show()"
      ],
      "execution_count": null,
      "outputs": [
        {
          "output_type": "display_data",
          "data": {
            "image/png": "[encoded data removed]",
            "text/plain": [
              "<Figure size 720x504 with 1 Axes>"
            ]
          },
          "metadata": {
            "tags": [],
            "needs_background": "light"
          }
        }
      ]
    },
    {
      "cell_type": "markdown",
      "metadata": {
        "id": "Sy1r6ZbG_OMM"
      },
      "source": [
        "Now that we have the Wordcloud for those that are suffering from depression, let's do the same for the healthy ones to be able to draw conclusions"
      ]
    },
    {
      "cell_type": "code",
      "metadata": {
        "id": "-388clQG58r8"
      },
      "source": [
        "my_string2 = ' '.join([str(text) for text in df['Text'][:10000]])\n",
        "list2=[token.text.lower() for token in nlp(my_string2) if token.text not in '\\n\\n \\n\\n\\n!\"-#$%&()--.*+,-/:;<=>?@[\\\\]^_`{|}~\\t\\n ']\n",
        "important_tokens2=[word for word in list2 if not nlp.vocab[word].is_stop]\n"
      ],
      "execution_count": null,
      "outputs": []
    },
    {
      "cell_type": "code",
      "metadata": {
        "colab": {
          "base_uri": "https://localhost:8080/",
          "height": 380
        },
        "id": "nclJUAWS6LIc",
        "outputId": "0e272c1d-0c35-4f4a-cfe4-d4ec375cdd9e"
      },
      "source": [
        "tokens2 = ' '.join(important_tokens2)\n",
        "wordcloud = WordCloud(width=800,height=500,random_state=21,max_font_size=110).generate(tokens2)\n",
        "plt.figure(figsize=(10,7))\n",
        "plt.imshow(wordcloud, interpolation=\"bilinear\")\n",
        "plt.axis('off')\n",
        "plt.show()"
      ],
      "execution_count": null,
      "outputs": [
        {
          "output_type": "display_data",
          "data": {
            "image/png": "[encoded data removed]",
            "text/plain": [
              "<Figure size 720x504 with 1 Axes>"
            ]
          },
          "metadata": {
            "tags": [],
            "needs_background": "light"
          }
        }
      ]
    },
    {
      "cell_type": "markdown",
      "metadata": {
        "id": "H6G4LyzW_h7y"
      },
      "source": [
        "Words like {\"good\",\"love\",\"think\"} seem to define people suffering from depression as individuals who are aware of how they feel, and value conection on an emotional level\n",
        "On the other side, people clear of depression tend to be more active and grounded in reality, often using words like {\"work\",\"day\",\"time\"}. They also state feelings clearly: {\"wish\",\"miss\",\"love\"}"
      ]
    },
    {
      "cell_type": "markdown",
      "metadata": {
        "id": "W8UZdDoeAw9r"
      },
      "source": [
        "Earlier we promised to look at the differences in message length"
      ]
    },
    {
      "cell_type": "code",
      "metadata": {
        "colab": {
          "base_uri": "https://localhost:8080/",
          "height": 339
        },
        "id": "Bgoi0UBB1cw0",
        "outputId": "2efaf995-86d8-4fee-80fb-80492dbc8c66"
      },
      "source": [
        "df.hist(column='length',by='Condition')"
      ],
      "execution_count": null,
      "outputs": [
        {
          "output_type": "execute_result",
          "data": {
            "text/plain": [
              "array([<matplotlib.axes._subplots.AxesSubplot object at 0x7f32d538d390>,\n",
              "       <matplotlib.axes._subplots.AxesSubplot object at 0x7f32d53b85c0>],\n",
              "      dtype=object)"
            ]
          },
          "metadata": {
            "tags": []
          },
          "execution_count": 55
        },
        {
          "output_type": "display_data",
          "data": {
            "image/png": "[encoded data removed]",
            "text/plain": [
              "<Figure size 432x288 with 2 Axes>"
            ]
          },
          "metadata": {
            "tags": [],
            "needs_background": "light"
          }
        }
      ]
    },
    {
      "cell_type": "markdown",
      "metadata": {
        "id": "lEulpGzeA9Fb"
      },
      "source": [
        "Those that don't feel well tend to write long messages ( > 150 words ), which is almost a rarity among healthy individuals"
      ]
    },
    {
      "cell_type": "markdown",
      "metadata": {
        "id": "ywL7dd1DBOyn"
      },
      "source": [
        "How about what parts of speech each category uses when having a conversation?"
      ]
    },
    {
      "cell_type": "code",
      "metadata": {
        "id": "BY0ib15gYz-0"
      },
      "source": [
        "doc1=nlp(my_string)\n",
        "POS_counts=doc1.count_by(spacy.attrs.POS)"
      ],
      "execution_count": null,
      "outputs": []
    },
    {
      "cell_type": "code",
      "metadata": {
        "colab": {
          "base_uri": "https://localhost:8080/"
        },
        "id": "NPyqFjIPZncO",
        "outputId": "90365ee4-86c1-4808-af7b-ce2c9342680b"
      },
      "source": [
        "POS_counts"
      ],
      "execution_count": null,
      "outputs": [
        {
          "output_type": "execute_result",
          "data": {
            "text/plain": [
              "{84: 9377,\n",
              " 85: 10585,\n",
              " 86: 9728,\n",
              " 87: 8512,\n",
              " 89: 3496,\n",
              " 90: 11903,\n",
              " 91: 2319,\n",
              " 92: 23098,\n",
              " 93: 1894,\n",
              " 94: 3900,\n",
              " 95: 13075,\n",
              " 96: 13883,\n",
              " 97: 21814,\n",
              " 98: 1684,\n",
              " 99: 409,\n",
              " 100: 18984,\n",
              " 101: 543,\n",
              " 103: 11292}"
            ]
          },
          "metadata": {
            "tags": []
          },
          "execution_count": 58
        }
      ]
    },
    {
      "cell_type": "code",
      "metadata": {
        "colab": {
          "base_uri": "https://localhost:8080/"
        },
        "id": "i3yHlW8vZuD-",
        "outputId": "f66b7400-8277-4927-f490-010db5d11522"
      },
      "source": [
        "for key, value in sorted(POS_counts.items()):\n",
        "  print(f'{key}. {doc1.vocab[key].text:{5}} {value}')"
      ],
      "execution_count": null,
      "outputs": [
        {
          "output_type": "stream",
          "text": [
            "84. ADJ   9377\n",
            "85. ADP   10585\n",
            "86. ADV   9728\n",
            "87. AUX   8512\n",
            "89. CCONJ 3496\n",
            "90. DET   11903\n",
            "91. INTJ  2319\n",
            "92. NOUN  23098\n",
            "93. NUM   1894\n",
            "94. PART  3900\n",
            "95. PRON  13075\n",
            "96. PROPN 13883\n",
            "97. PUNCT 21814\n",
            "98. SCONJ 1684\n",
            "99. SYM   409\n",
            "100. VERB  18984\n",
            "101. X     543\n",
            "103. SPACE 11292\n"
          ],
          "name": "stdout"
        }
      ]
    },
    {
      "cell_type": "code",
      "metadata": {
        "id": "wTfZUTqOaCii"
      },
      "source": [
        "doc2=nlp(my_string2)\n",
        "POS_counts2=doc2.count_by(spacy.attrs.POS)"
      ],
      "execution_count": null,
      "outputs": []
    },
    {
      "cell_type": "code",
      "metadata": {
        "colab": {
          "base_uri": "https://localhost:8080/"
        },
        "id": "NWEcU4S7aIFM",
        "outputId": "2787e5cf-2dcc-4615-aba7-feed0ff3ab08"
      },
      "source": [
        "POS_counts2"
      ],
      "execution_count": null,
      "outputs": [
        {
          "output_type": "execute_result",
          "data": {
            "text/plain": [
              "{84: 8722,\n",
              " 85: 10013,\n",
              " 86: 11381,\n",
              " 87: 9885,\n",
              " 89: 3954,\n",
              " 90: 11678,\n",
              " 91: 2127,\n",
              " 92: 21682,\n",
              " 93: 1909,\n",
              " 94: 6123,\n",
              " 95: 16203,\n",
              " 96: 12643,\n",
              " 97: 19969,\n",
              " 98: 1804,\n",
              " 99: 348,\n",
              " 100: 22079,\n",
              " 101: 391,\n",
              " 103: 10833}"
            ]
          },
          "metadata": {
            "tags": []
          },
          "execution_count": 61
        }
      ]
    },
    {
      "cell_type": "code",
      "metadata": {
        "colab": {
          "base_uri": "https://localhost:8080/"
        },
        "id": "RYppHT9AaM92",
        "outputId": "87af07a8-8848-4171-9928-d563ee21aa7f"
      },
      "source": [
        "for key, value in sorted(POS_counts2.items()):\n",
        "  print(f'{key}. {doc2.vocab[key].text:{5}} {value}')"
      ],
      "execution_count": null,
      "outputs": [
        {
          "output_type": "stream",
          "text": [
            "84. ADJ   8722\n",
            "85. ADP   10013\n",
            "86. ADV   11381\n",
            "87. AUX   9885\n",
            "89. CCONJ 3954\n",
            "90. DET   11678\n",
            "91. INTJ  2127\n",
            "92. NOUN  21682\n",
            "93. NUM   1909\n",
            "94. PART  6123\n",
            "95. PRON  16203\n",
            "96. PROPN 12643\n",
            "97. PUNCT 19969\n",
            "98. SCONJ 1804\n",
            "99. SYM   348\n",
            "100. VERB  22079\n",
            "101. X     391\n",
            "103. SPACE 10833\n"
          ],
          "name": "stdout"
        }
      ]
    },
    {
      "cell_type": "markdown",
      "metadata": {
        "id": "bER5d2SyBZMh"
      },
      "source": [
        "The healthy people use almost 4000 more VERBS, which indicates they are more likely to take action for themselves, and that is also followed by a positive change in mentality"
      ]
    },
    {
      "cell_type": "markdown",
      "metadata": {
        "id": "2hnGkwJ3WHYG"
      },
      "source": [
        "## Generating text as a depressed speaker"
      ]
    },
    {
      "cell_type": "markdown",
      "metadata": {
        "id": "8YjYX1iJS5DE"
      },
      "source": [
        "The following method for generating text is further explained at: https://www.udemy.com/course/nlp-natural-language-processing-with-python/"
      ]
    },
    {
      "cell_type": "markdown",
      "metadata": {
        "id": "zn-rSi7WTJ1R"
      },
      "source": [
        "We group together 1000 messages written by those diagnosed with depression, obtain the tokens, from which we exclude punctuation, stop words and even tags( \" @ \" )"
      ]
    },
    {
      "cell_type": "code",
      "metadata": {
        "id": "Rok4x5bawFgR"
      },
      "source": [
        "my_string3 = ' '.join([str(text) for text in df['Text'][100000:101000]])\n",
        "list3=[token.text.lower() for token in nlp(my_string3) if token.text not in '... .. .... \\n\\n \\n\\n\\n!\"-#$%&()--.*+,-/:;<=>?@[\\\\]^_`{|}~\\t\\n  ' and token.text.isalpha() ]\n",
        "refined_list3=[word for word in list3 if (word != '...') and ('@' not in word)]\n",
        "important_tokens3=[word for word in refined_list3 if not nlp.vocab[word].is_stop]\n"
      ],
      "execution_count": null,
      "outputs": []
    },
    {
      "cell_type": "code",
      "metadata": {
        "colab": {
          "base_uri": "https://localhost:8080/"
        },
        "id": "kAIvcfDXcA0T",
        "outputId": "eeeb578f-d0ce-4d06-c8c5-55dd617b8923"
      },
      "source": [
        "len(important_tokens3) # total number of words"
      ],
      "execution_count": null,
      "outputs": [
        {
          "output_type": "execute_result",
          "data": {
            "text/plain": [
              "5744"
            ]
          },
          "metadata": {
            "tags": []
          },
          "execution_count": 192
        }
      ]
    },
    {
      "cell_type": "code",
      "metadata": {
        "id": "wd6HnIFKcbuz"
      },
      "source": [
        "train_len=50+1  # we'll be genearating a single word based off of 50 previus entries\n",
        "\n",
        "text_sequences=[]\n",
        "\n",
        "for i in range(train_len,len(important_tokens3)):\n",
        "  seq=important_tokens3[i-train_len:i]\n",
        "  text_sequences.append(seq)  # containing lists of sequences, successors differing by only the last word"
      ],
      "execution_count": null,
      "outputs": []
    },
    {
      "cell_type": "code",
      "metadata": {
        "colab": {
          "base_uri": "https://localhost:8080/",
          "height": 68
        },
        "id": "QpDKpFcTc_jn",
        "outputId": "e9b7e344-76b3-4cda-cf40-10b8a274b868"
      },
      "source": [
        "' '.join(text_sequences[0])"
      ],
      "execution_count": null,
      "outputs": [
        {
          "output_type": "execute_result",
          "data": {
            "application/vnd.google.colaboratory.intrinsic+json": {
              "type": "string"
            },
            "text/plain": [
              "'stuffed working shower movie night thn sleeeeeep love shan let pretend rented watched double date tell family hello wanna come sure grace daughter impressed picked caroline new dog sweet eating lunch ferry umbrellas spf lotion loves rock everybody hast watch mommy thought looked good drunken mess haha charcoaled maybe draw picture'"
            ]
          },
          "metadata": {
            "tags": []
          },
          "execution_count": 194
        }
      ]
    },
    {
      "cell_type": "code",
      "metadata": {
        "id": "MHLogKSjWUMD"
      },
      "source": [
        "from keras.preprocessing.text import Tokenizer\n",
        "tokenizer=Tokenizer()\n",
        "tokenizer.fit_on_texts(text_sequences)\n",
        "sequences=tokenizer.texts_to_sequences(text_sequences) #this will return a list of integer sequences encoding the words in our sentences"
      ],
      "execution_count": null,
      "outputs": []
    },
    {
      "cell_type": "code",
      "metadata": {
        "id": "WQLkJ27ndOe1"
      },
      "source": [
        "tokenizer.index_word # we check what integer has been assigned to every word"
      ],
      "execution_count": null,
      "outputs": []
    },
    {
      "cell_type": "code",
      "metadata": {
        "id": "WocF8X2wdOlT"
      },
      "source": [
        "tokenizer.word_counts"
      ],
      "execution_count": null,
      "outputs": []
    },
    {
      "cell_type": "code",
      "metadata": {
        "id": "fC7tcbg-dzLd"
      },
      "source": [
        "vocabulary_size=len(tokenizer.word_counts)"
      ],
      "execution_count": null,
      "outputs": []
    },
    {
      "cell_type": "code",
      "metadata": {
        "colab": {
          "base_uri": "https://localhost:8080/"
        },
        "id": "blqB5IMtd6gP",
        "outputId": "dd9bca88-721e-4d6b-9148-81c5d6d410a9"
      },
      "source": [
        "vocabulary_size #unique words"
      ],
      "execution_count": null,
      "outputs": [
        {
          "output_type": "execute_result",
          "data": {
            "text/plain": [
              "2611"
            ]
          },
          "metadata": {
            "tags": []
          },
          "execution_count": 201
        }
      ]
    },
    {
      "cell_type": "code",
      "metadata": {
        "id": "b5CbkEeEd7WJ"
      },
      "source": [
        "import numpy as np\n",
        "sequences=np.array(sequences)"
      ],
      "execution_count": null,
      "outputs": []
    },
    {
      "cell_type": "code",
      "metadata": {
        "colab": {
          "base_uri": "https://localhost:8080/"
        },
        "id": "saKIl1vdeEJ7",
        "outputId": "865474f4-23cc-4c9a-f9c0-fd56919b5742"
      },
      "source": [
        "sequences # here we now have the words encoded and being parts of list as sequences"
      ],
      "execution_count": null,
      "outputs": [
        {
          "output_type": "execute_result",
          "data": {
            "text/plain": [
              "array([[2610,   82,  772, ...,  137, 2576,  169],\n",
              "       [  82,  772,   50, ..., 2576,  169,  773],\n",
              "       [ 772,   50,   18, ...,  169,  773,  224],\n",
              "       ...,\n",
              "       [  48,  599, 2575, ...,  292,   97, 2609],\n",
              "       [ 599, 2575,   66, ...,   97, 2609,   81],\n",
              "       [2575,   66,   82, ..., 2609,   81, 2611]])"
            ]
          },
          "metadata": {
            "tags": []
          },
          "execution_count": 203
        }
      ]
    },
    {
      "cell_type": "code",
      "metadata": {
        "id": "064kxO3BeFnD"
      },
      "source": [
        "from keras.utils import to_categorical\n",
        "X=sequences[:,:-1]  # first 50 words in each list, whcih we'll use to predict the 51-th\n",
        "y=sequences[:,-1]\n",
        "y=to_categorical(y,num_classes=vocabulary_size+1)\n",
        "seq_len=X.shape[1]"
      ],
      "execution_count": null,
      "outputs": []
    },
    {
      "cell_type": "code",
      "metadata": {
        "colab": {
          "base_uri": "https://localhost:8080/"
        },
        "id": "lI7J0BxSg9nj",
        "outputId": "7d73d2f1-866e-4c09-bf3f-628d9f0a31c5"
      },
      "source": [
        "seq_len"
      ],
      "execution_count": null,
      "outputs": [
        {
          "output_type": "execute_result",
          "data": {
            "text/plain": [
              "50"
            ]
          },
          "metadata": {
            "tags": []
          },
          "execution_count": 205
        }
      ]
    },
    {
      "cell_type": "code",
      "metadata": {
        "colab": {
          "base_uri": "https://localhost:8080/"
        },
        "id": "a_Dmm5Ijg_TU",
        "outputId": "a9749314-949b-4695-91c7-bf6f9b4165ef"
      },
      "source": [
        "X.shape"
      ],
      "execution_count": null,
      "outputs": [
        {
          "output_type": "execute_result",
          "data": {
            "text/plain": [
              "(5693, 50)"
            ]
          },
          "metadata": {
            "tags": []
          },
          "execution_count": 206
        }
      ]
    },
    {
      "cell_type": "code",
      "metadata": {
        "id": "ZT8HUqljhB7u"
      },
      "source": [
        "import keras\n",
        "from keras.models import Sequential\n",
        "from keras.layers import Dense,LSTM,Embedding"
      ],
      "execution_count": null,
      "outputs": []
    },
    {
      "cell_type": "markdown",
      "metadata": {
        "id": "hsnSF1fUYL-p"
      },
      "source": [
        "### RNN and LSTM"
      ]
    },
    {
      "cell_type": "markdown",
      "metadata": {
        "id": "BdkcTiHPXSTZ"
      },
      "source": [
        "Before we apply the Deep Learning algorithm, let's first refresh our memory on Recurrent Neural Networks\n",
        "\n",
        "https://www.youtube.com/watch?v=LHXXI4-IEns\n",
        "\n",
        "https://www.youtube.com/watch?v=8HyCNIVRbSU&t=517s"
      ]
    },
    {
      "cell_type": "markdown",
      "metadata": {
        "id": "TnkpDpYwbSIS"
      },
      "source": [
        "A sequence is defined as a particular order in which related things follow each other.\n"
      ]
    },
    {
      "cell_type": "markdown",
      "metadata": {
        "id": "SxKv8TmbaZ86"
      },
      "source": [
        "RNNs receive sequences as inputs, but unlike ANNs, which don't take the output of the current state into consideration as input for the following step, RNNs do. \n",
        "\n",
        "The \"learning\" is realized through an algorithm called Backpropagation, which adjusts coeficients at each step, unfortunately diminishing the value of the inputs at the lower levels.\n",
        "\n",
        "So how do we mentain their data useful? The aswer is through Long Short-Term Memory units, which decide what proportion of the previous layer to keep.\n",
        "\n",
        "For a more in depth explanation, check the video from the second link."
      ]
    },
    {
      "cell_type": "code",
      "metadata": {
        "id": "t7OSZqY3hSjW"
      },
      "source": [
        "def create_model(vocabulary_size, seq_len):\n",
        "    model = Sequential()\n",
        "    model.add(Embedding(vocabulary_size, 50, input_length=seq_len))\n",
        "    model.add(LSTM(200, return_sequences=True))\n",
        "    model.add(LSTM(200))\n",
        "    model.add(Dense(150, activation='relu'))\n",
        "\n",
        "    model.add(Dense(vocabulary_size, activation='softmax'))\n",
        "    \n",
        "    model.compile(loss='categorical_crossentropy', optimizer='adam', metrics=['accuracy'])\n",
        "   \n",
        "    model.summary()\n",
        "    \n",
        "    return model"
      ],
      "execution_count": null,
      "outputs": []
    },
    {
      "cell_type": "code",
      "metadata": {
        "colab": {
          "base_uri": "https://localhost:8080/"
        },
        "id": "oCJZcoQHhTTs",
        "outputId": "067b8718-0711-4323-ff36-c9b8e397c0f4"
      },
      "source": [
        "model=create_model(vocabulary_size+1,seq_len)\n",
        "\n",
        "model.fit(X,y,batch_size=128, epochs=150,verbose=1)"
      ],
      "execution_count": null,
      "outputs": [
        {
          "output_type": "stream",
          "text": [
            "Model: \"sequential_15\"\n",
            "_________________________________________________________________\n",
            "Layer (type)                 Output Shape              Param #   \n",
            "=================================================================\n",
            "embedding_15 (Embedding)     (None, 50, 50)            130600    \n",
            "_________________________________________________________________\n",
            "lstm_30 (LSTM)               (None, 50, 200)           200800    \n",
            "_________________________________________________________________\n",
            "lstm_31 (LSTM)               (None, 200)               320800    \n",
            "_________________________________________________________________\n",
            "dense_30 (Dense)             (None, 150)               30150     \n",
            "_________________________________________________________________\n",
            "dense_31 (Dense)             (None, 2612)              394412    \n",
            "=================================================================\n",
            "Total params: 1,076,762\n",
            "Trainable params: 1,076,762\n",
            "Non-trainable params: 0\n",
            "_________________________________________________________________\n",
            "Epoch 1/150\n",
            "45/45 [==============================] - 28s 619ms/step - loss: 7.7338 - accuracy: 0.0069\n",
            "Epoch 2/150\n",
            "45/45 [==============================] - 27s 605ms/step - loss: 7.4165 - accuracy: 0.0118\n",
            "Epoch 3/150\n",
            "45/45 [==============================] - 27s 603ms/step - loss: 7.3491 - accuracy: 0.0102\n",
            "Epoch 4/150\n",
            "45/45 [==============================] - 27s 604ms/step - loss: 7.3215 - accuracy: 0.0118\n",
            "Epoch 5/150\n",
            "45/45 [==============================] - 28s 623ms/step - loss: 7.3120 - accuracy: 0.0118\n",
            "Epoch 6/150\n",
            "45/45 [==============================] - 28s 623ms/step - loss: 7.2942 - accuracy: 0.0118\n",
            "Epoch 7/150\n",
            "45/45 [==============================] - 27s 609ms/step - loss: 7.1711 - accuracy: 0.0118\n",
            "Epoch 8/150\n",
            "45/45 [==============================] - 28s 630ms/step - loss: 7.0600 - accuracy: 0.0119\n",
            "Epoch 9/150\n",
            "45/45 [==============================] - 27s 609ms/step - loss: 7.0001 - accuracy: 0.0125\n",
            "Epoch 10/150\n",
            "45/45 [==============================] - 28s 612ms/step - loss: 6.9172 - accuracy: 0.0118\n",
            "Epoch 11/150\n",
            "45/45 [==============================] - 30s 671ms/step - loss: 6.8270 - accuracy: 0.0111\n",
            "Epoch 12/150\n",
            "45/45 [==============================] - 28s 621ms/step - loss: 6.7208 - accuracy: 0.0118\n",
            "Epoch 13/150\n",
            "45/45 [==============================] - 27s 608ms/step - loss: 6.6062 - accuracy: 0.0139\n",
            "Epoch 14/150\n",
            "45/45 [==============================] - 28s 614ms/step - loss: 6.5041 - accuracy: 0.0151\n",
            "Epoch 15/150\n",
            "45/45 [==============================] - 28s 615ms/step - loss: 6.3928 - accuracy: 0.0139\n",
            "Epoch 16/150\n",
            "45/45 [==============================] - 28s 626ms/step - loss: 6.2819 - accuracy: 0.0141\n",
            "Epoch 17/150\n",
            "45/45 [==============================] - 28s 620ms/step - loss: 6.1713 - accuracy: 0.0179\n",
            "Epoch 18/150\n",
            "45/45 [==============================] - 30s 657ms/step - loss: 6.0515 - accuracy: 0.0179\n",
            "Epoch 19/150\n",
            "45/45 [==============================] - 27s 610ms/step - loss: 5.9367 - accuracy: 0.0191\n",
            "Epoch 20/150\n",
            "45/45 [==============================] - 28s 614ms/step - loss: 5.8116 - accuracy: 0.0232\n",
            "Epoch 21/150\n",
            "45/45 [==============================] - 28s 613ms/step - loss: 5.7135 - accuracy: 0.0239\n",
            "Epoch 22/150\n",
            "45/45 [==============================] - 27s 608ms/step - loss: 5.7181 - accuracy: 0.0246\n",
            "Epoch 23/150\n",
            "45/45 [==============================] - 28s 615ms/step - loss: 5.5157 - accuracy: 0.0256\n",
            "Epoch 24/150\n",
            "45/45 [==============================] - 28s 619ms/step - loss: 5.4160 - accuracy: 0.0262\n",
            "Epoch 25/150\n",
            "45/45 [==============================] - 28s 617ms/step - loss: 5.3400 - accuracy: 0.0306\n",
            "Epoch 26/150\n",
            "45/45 [==============================] - 28s 611ms/step - loss: 5.2344 - accuracy: 0.0343\n",
            "Epoch 27/150\n",
            "45/45 [==============================] - 29s 635ms/step - loss: 5.1378 - accuracy: 0.0314\n",
            "Epoch 28/150\n",
            "45/45 [==============================] - 27s 607ms/step - loss: 5.0441 - accuracy: 0.0355\n",
            "Epoch 29/150\n",
            "45/45 [==============================] - 28s 615ms/step - loss: 4.9453 - accuracy: 0.0378\n",
            "Epoch 30/150\n",
            "45/45 [==============================] - 28s 618ms/step - loss: 4.8412 - accuracy: 0.0444\n",
            "Epoch 31/150\n",
            "45/45 [==============================] - 27s 610ms/step - loss: 4.7530 - accuracy: 0.0478\n",
            "Epoch 32/150\n",
            "45/45 [==============================] - 30s 670ms/step - loss: 4.6524 - accuracy: 0.0476\n",
            "Epoch 33/150\n",
            "45/45 [==============================] - 27s 609ms/step - loss: 4.5620 - accuracy: 0.0539\n",
            "Epoch 34/150\n",
            "45/45 [==============================] - 27s 601ms/step - loss: 4.4607 - accuracy: 0.0588\n",
            "Epoch 35/150\n",
            "45/45 [==============================] - 28s 613ms/step - loss: 4.3800 - accuracy: 0.0671\n",
            "Epoch 36/150\n",
            "45/45 [==============================] - 28s 623ms/step - loss: 4.2923 - accuracy: 0.0789\n",
            "Epoch 37/150\n",
            "45/45 [==============================] - 28s 616ms/step - loss: 4.2118 - accuracy: 0.0815\n",
            "Epoch 38/150\n",
            "45/45 [==============================] - 28s 629ms/step - loss: 4.1194 - accuracy: 0.0957\n",
            "Epoch 39/150\n",
            "45/45 [==============================] - 28s 615ms/step - loss: 4.0265 - accuracy: 0.1038\n",
            "Epoch 40/150\n",
            "45/45 [==============================] - 28s 613ms/step - loss: 3.9394 - accuracy: 0.1119\n",
            "Epoch 41/150\n",
            "45/45 [==============================] - 28s 616ms/step - loss: 3.8587 - accuracy: 0.1209\n",
            "Epoch 42/150\n",
            "45/45 [==============================] - 28s 614ms/step - loss: 3.7810 - accuracy: 0.1367\n",
            "Epoch 43/150\n",
            "45/45 [==============================] - 28s 616ms/step - loss: 3.7300 - accuracy: 0.1440\n",
            "Epoch 44/150\n",
            "45/45 [==============================] - 28s 620ms/step - loss: 4.2691 - accuracy: 0.1302\n",
            "Epoch 45/150\n",
            "45/45 [==============================] - 28s 625ms/step - loss: 4.2216 - accuracy: 0.1302\n",
            "Epoch 46/150\n",
            "45/45 [==============================] - 28s 618ms/step - loss: 3.8393 - accuracy: 0.1591\n",
            "Epoch 47/150\n",
            "45/45 [==============================] - 28s 615ms/step - loss: 3.7263 - accuracy: 0.1751\n",
            "Epoch 48/150\n",
            "45/45 [==============================] - 28s 616ms/step - loss: 3.5434 - accuracy: 0.1985\n",
            "Epoch 49/150\n",
            "45/45 [==============================] - 28s 632ms/step - loss: 3.4136 - accuracy: 0.2145\n",
            "Epoch 50/150\n",
            "45/45 [==============================] - 28s 612ms/step - loss: 3.3242 - accuracy: 0.2327\n",
            "Epoch 51/150\n",
            "45/45 [==============================] - 28s 615ms/step - loss: 3.2059 - accuracy: 0.2542\n",
            "Epoch 52/150\n",
            "45/45 [==============================] - 28s 619ms/step - loss: 3.0961 - accuracy: 0.2765\n",
            "Epoch 53/150\n",
            "45/45 [==============================] - 27s 610ms/step - loss: 3.0164 - accuracy: 0.2875\n",
            "Epoch 54/150\n",
            "45/45 [==============================] - 28s 623ms/step - loss: 2.9090 - accuracy: 0.3162\n",
            "Epoch 55/150\n",
            "45/45 [==============================] - 28s 618ms/step - loss: 2.8036 - accuracy: 0.3364\n",
            "Epoch 56/150\n",
            "45/45 [==============================] - 28s 622ms/step - loss: 2.7360 - accuracy: 0.3464\n",
            "Epoch 57/150\n",
            "45/45 [==============================] - 28s 621ms/step - loss: 2.6346 - accuracy: 0.3650\n",
            "Epoch 58/150\n",
            "45/45 [==============================] - 28s 621ms/step - loss: 2.5414 - accuracy: 0.3891\n",
            "Epoch 59/150\n",
            "45/45 [==============================] - 28s 617ms/step - loss: 2.4597 - accuracy: 0.4052\n",
            "Epoch 60/150\n",
            "45/45 [==============================] - 29s 641ms/step - loss: 2.3750 - accuracy: 0.4235\n",
            "Epoch 61/150\n",
            "45/45 [==============================] - 28s 612ms/step - loss: 2.3101 - accuracy: 0.4388\n",
            "Epoch 62/150\n",
            "45/45 [==============================] - 28s 612ms/step - loss: 2.2493 - accuracy: 0.4479\n",
            "Epoch 63/150\n",
            "45/45 [==============================] - 28s 617ms/step - loss: 2.1695 - accuracy: 0.4681\n",
            "Epoch 64/150\n",
            "45/45 [==============================] - 28s 616ms/step - loss: 2.0903 - accuracy: 0.4938\n",
            "Epoch 65/150\n",
            "45/45 [==============================] - 29s 634ms/step - loss: 2.0456 - accuracy: 0.5090\n",
            "Epoch 66/150\n",
            "45/45 [==============================] - 28s 624ms/step - loss: 1.9673 - accuracy: 0.5296\n",
            "Epoch 67/150\n",
            "45/45 [==============================] - 28s 618ms/step - loss: 1.8835 - accuracy: 0.5458\n",
            "Epoch 68/150\n",
            "45/45 [==============================] - 29s 634ms/step - loss: 1.8020 - accuracy: 0.5658\n",
            "Epoch 69/150\n",
            "45/45 [==============================] - 28s 623ms/step - loss: 1.7337 - accuracy: 0.5754\n",
            "Epoch 70/150\n",
            "45/45 [==============================] - 28s 627ms/step - loss: 1.6718 - accuracy: 0.5978\n",
            "Epoch 71/150\n",
            "45/45 [==============================] - 29s 641ms/step - loss: 1.5850 - accuracy: 0.6218\n",
            "Epoch 72/150\n",
            "45/45 [==============================] - 28s 624ms/step - loss: 1.6156 - accuracy: 0.6234\n",
            "Epoch 73/150\n",
            "45/45 [==============================] - 28s 619ms/step - loss: 1.6272 - accuracy: 0.6192\n",
            "Epoch 74/150\n",
            "45/45 [==============================] - 28s 624ms/step - loss: 1.5939 - accuracy: 0.6269\n",
            "Epoch 75/150\n",
            "45/45 [==============================] - 28s 624ms/step - loss: 1.4525 - accuracy: 0.6545\n",
            "Epoch 76/150\n",
            "45/45 [==============================] - 28s 622ms/step - loss: 1.3512 - accuracy: 0.6833\n",
            "Epoch 77/150\n",
            "45/45 [==============================] - 28s 624ms/step - loss: 1.3048 - accuracy: 0.6972\n",
            "Epoch 78/150\n",
            "45/45 [==============================] - 28s 621ms/step - loss: 1.2870 - accuracy: 0.6944\n",
            "Epoch 79/150\n",
            "45/45 [==============================] - 28s 616ms/step - loss: 1.2289 - accuracy: 0.7119\n",
            "Epoch 80/150\n",
            "45/45 [==============================] - 28s 615ms/step - loss: 1.1903 - accuracy: 0.7237\n",
            "Epoch 81/150\n",
            "45/45 [==============================] - 28s 615ms/step - loss: 1.3064 - accuracy: 0.7118\n",
            "Epoch 82/150\n",
            "45/45 [==============================] - 28s 621ms/step - loss: 1.3900 - accuracy: 0.6856\n",
            "Epoch 83/150\n",
            "45/45 [==============================] - 28s 617ms/step - loss: 2.0168 - accuracy: 0.5380\n",
            "Epoch 84/150\n",
            "45/45 [==============================] - 28s 622ms/step - loss: 1.8391 - accuracy: 0.5484\n",
            "Epoch 85/150\n",
            "45/45 [==============================] - 28s 620ms/step - loss: 1.9401 - accuracy: 0.5429\n",
            "Epoch 86/150\n",
            "45/45 [==============================] - 28s 628ms/step - loss: 1.8002 - accuracy: 0.5591\n",
            "Epoch 87/150\n",
            "45/45 [==============================] - 28s 615ms/step - loss: 1.4454 - accuracy: 0.6552\n",
            "Epoch 88/150\n",
            "45/45 [==============================] - 28s 619ms/step - loss: 1.3414 - accuracy: 0.6868\n",
            "Epoch 89/150\n",
            "45/45 [==============================] - 28s 613ms/step - loss: 1.4466 - accuracy: 0.6598\n",
            "Epoch 90/150\n",
            "45/45 [==============================] - 28s 618ms/step - loss: 1.4171 - accuracy: 0.6664\n",
            "Epoch 91/150\n",
            "45/45 [==============================] - 28s 625ms/step - loss: 1.1172 - accuracy: 0.7395\n",
            "Epoch 92/150\n",
            "45/45 [==============================] - 28s 618ms/step - loss: 0.9969 - accuracy: 0.7678\n",
            "Epoch 93/150\n",
            "45/45 [==============================] - 28s 626ms/step - loss: 0.9500 - accuracy: 0.7922\n",
            "Epoch 94/150\n",
            "45/45 [==============================] - 28s 619ms/step - loss: 0.9567 - accuracy: 0.7883\n",
            "Epoch 95/150\n",
            "45/45 [==============================] - 28s 617ms/step - loss: 0.8897 - accuracy: 0.8024\n",
            "Epoch 96/150\n",
            "45/45 [==============================] - 28s 622ms/step - loss: 0.8118 - accuracy: 0.8291\n",
            "Epoch 97/150\n",
            "45/45 [==============================] - 28s 616ms/step - loss: 0.7438 - accuracy: 0.8472\n",
            "Epoch 98/150\n",
            "45/45 [==============================] - 28s 618ms/step - loss: 0.6937 - accuracy: 0.8558\n",
            "Epoch 99/150\n",
            "45/45 [==============================] - 28s 617ms/step - loss: 0.6617 - accuracy: 0.8640\n",
            "Epoch 100/150\n",
            "45/45 [==============================] - 28s 626ms/step - loss: 0.6065 - accuracy: 0.8844\n",
            "Epoch 101/150\n",
            "45/45 [==============================] - 28s 628ms/step - loss: 0.5804 - accuracy: 0.8893\n",
            "Epoch 102/150\n",
            "45/45 [==============================] - 28s 617ms/step - loss: 0.5486 - accuracy: 0.9016\n",
            "Epoch 103/150\n",
            "45/45 [==============================] - 28s 631ms/step - loss: 0.5296 - accuracy: 0.9039\n",
            "Epoch 104/150\n",
            "45/45 [==============================] - 28s 619ms/step - loss: 0.5416 - accuracy: 0.9016\n",
            "Epoch 105/150\n",
            "45/45 [==============================] - 28s 631ms/step - loss: 0.7192 - accuracy: 0.8579\n",
            "Epoch 106/150\n",
            "45/45 [==============================] - 28s 620ms/step - loss: 0.7686 - accuracy: 0.8423\n",
            "Epoch 107/150\n",
            "45/45 [==============================] - 28s 632ms/step - loss: 0.6435 - accuracy: 0.8732\n",
            "Epoch 108/150\n",
            "45/45 [==============================] - 28s 618ms/step - loss: 0.5967 - accuracy: 0.8820\n",
            "Epoch 109/150\n",
            "45/45 [==============================] - 28s 622ms/step - loss: 0.5102 - accuracy: 0.9011\n",
            "Epoch 110/150\n",
            "45/45 [==============================] - 28s 621ms/step - loss: 0.4237 - accuracy: 0.9285\n",
            "Epoch 111/150\n",
            "45/45 [==============================] - 28s 625ms/step - loss: 0.3977 - accuracy: 0.9324\n",
            "Epoch 112/150\n",
            "45/45 [==============================] - 28s 622ms/step - loss: 0.4930 - accuracy: 0.8988\n",
            "Epoch 113/150\n",
            "45/45 [==============================] - 28s 629ms/step - loss: 0.4663 - accuracy: 0.9018\n",
            "Epoch 114/150\n",
            "45/45 [==============================] - 28s 631ms/step - loss: 0.3859 - accuracy: 0.9320\n",
            "Epoch 115/150\n",
            "45/45 [==============================] - 28s 620ms/step - loss: 0.3215 - accuracy: 0.9468\n",
            "Epoch 116/150\n",
            "45/45 [==============================] - 28s 618ms/step - loss: 0.2729 - accuracy: 0.9600\n",
            "Epoch 117/150\n",
            "45/45 [==============================] - 29s 636ms/step - loss: 0.2410 - accuracy: 0.9708\n",
            "Epoch 118/150\n",
            "45/45 [==============================] - 28s 621ms/step - loss: 0.2132 - accuracy: 0.9780\n",
            "Epoch 119/150\n",
            "45/45 [==============================] - 28s 618ms/step - loss: 0.1957 - accuracy: 0.9810\n",
            "Epoch 120/150\n",
            "45/45 [==============================] - 28s 621ms/step - loss: 0.1761 - accuracy: 0.9847\n",
            "Epoch 121/150\n",
            "45/45 [==============================] - 28s 619ms/step - loss: 0.1576 - accuracy: 0.9898\n",
            "Epoch 122/150\n",
            "45/45 [==============================] - 28s 615ms/step - loss: 0.1454 - accuracy: 0.9916\n",
            "Epoch 123/150\n",
            "45/45 [==============================] - 28s 616ms/step - loss: 0.1363 - accuracy: 0.9933\n",
            "Epoch 124/150\n",
            "45/45 [==============================] - 28s 618ms/step - loss: 0.1233 - accuracy: 0.9940\n",
            "Epoch 125/150\n",
            "45/45 [==============================] - 29s 636ms/step - loss: 0.1170 - accuracy: 0.9958\n",
            "Epoch 126/150\n",
            "45/45 [==============================] - 28s 617ms/step - loss: 0.1138 - accuracy: 0.9947\n",
            "Epoch 127/150\n",
            "45/45 [==============================] - 27s 609ms/step - loss: 0.1094 - accuracy: 0.9947\n",
            "Epoch 128/150\n",
            "45/45 [==============================] - 28s 627ms/step - loss: 0.1400 - accuracy: 0.9868\n",
            "Epoch 129/150\n",
            "45/45 [==============================] - 28s 616ms/step - loss: 0.1490 - accuracy: 0.9845\n",
            "Epoch 130/150\n",
            "45/45 [==============================] - 28s 615ms/step - loss: 0.1337 - accuracy: 0.9882\n",
            "Epoch 131/150\n",
            "45/45 [==============================] - 28s 615ms/step - loss: 0.1210 - accuracy: 0.9893\n",
            "Epoch 132/150\n",
            "45/45 [==============================] - 27s 607ms/step - loss: 0.1165 - accuracy: 0.9898\n",
            "Epoch 133/150\n",
            "45/45 [==============================] - 28s 613ms/step - loss: 0.1111 - accuracy: 0.9924\n",
            "Epoch 134/150\n",
            "45/45 [==============================] - 28s 618ms/step - loss: 0.0935 - accuracy: 0.9944\n",
            "Epoch 135/150\n",
            "45/45 [==============================] - 28s 619ms/step - loss: 0.0808 - accuracy: 0.9963\n",
            "Epoch 136/150\n",
            "45/45 [==============================] - 28s 625ms/step - loss: 0.0658 - accuracy: 0.9981\n",
            "Epoch 137/150\n",
            "45/45 [==============================] - 28s 616ms/step - loss: 0.0606 - accuracy: 0.9979\n",
            "Epoch 138/150\n",
            "45/45 [==============================] - 28s 619ms/step - loss: 0.0532 - accuracy: 0.9984\n",
            "Epoch 139/150\n",
            "45/45 [==============================] - 28s 615ms/step - loss: 0.0512 - accuracy: 0.9988\n",
            "Epoch 140/150\n",
            "45/45 [==============================] - 28s 618ms/step - loss: 0.0652 - accuracy: 0.9942\n",
            "Epoch 141/150\n",
            "45/45 [==============================] - 27s 611ms/step - loss: 0.5149 - accuracy: 0.8841\n",
            "Epoch 142/150\n",
            "45/45 [==============================] - 28s 618ms/step - loss: 0.7498 - accuracy: 0.7911\n",
            "Epoch 143/150\n",
            "45/45 [==============================] - 28s 615ms/step - loss: 0.7599 - accuracy: 0.7943\n",
            "Epoch 144/150\n",
            "45/45 [==============================] - 28s 618ms/step - loss: 0.5024 - accuracy: 0.8670\n",
            "Epoch 145/150\n",
            "45/45 [==============================] - 28s 614ms/step - loss: 0.3120 - accuracy: 0.9289\n",
            "Epoch 146/150\n",
            "45/45 [==============================] - 28s 616ms/step - loss: 0.2872 - accuracy: 0.9389\n",
            "Epoch 147/150\n",
            "45/45 [==============================] - 28s 628ms/step - loss: 0.1880 - accuracy: 0.9677\n",
            "Epoch 148/150\n",
            "45/45 [==============================] - 28s 619ms/step - loss: 0.1140 - accuracy: 0.9837\n",
            "Epoch 149/150\n",
            "45/45 [==============================] - 28s 628ms/step - loss: 0.1974 - accuracy: 0.9661\n",
            "Epoch 150/150\n",
            "45/45 [==============================] - 28s 615ms/step - loss: 0.2081 - accuracy: 0.9629\n"
          ],
          "name": "stdout"
        },
        {
          "output_type": "execute_result",
          "data": {
            "text/plain": [
              "<tensorflow.python.keras.callbacks.History at 0x7f3286277208>"
            ]
          },
          "metadata": {
            "tags": []
          },
          "execution_count": 223
        }
      ]
    },
    {
      "cell_type": "code",
      "metadata": {
        "id": "OHcr61SN0AYV"
      },
      "source": [
        "model.save('depressed_final1.h5')"
      ],
      "execution_count": null,
      "outputs": []
    },
    {
      "cell_type": "code",
      "metadata": {
        "id": "KC7s7wjMhnAk"
      },
      "source": [
        "from random import randint\n",
        "from pickle import load\n",
        "from keras.models import load_model\n",
        "from keras.preprocessing.sequence import pad_sequences"
      ],
      "execution_count": null,
      "outputs": []
    },
    {
      "cell_type": "code",
      "metadata": {
        "id": "mKQNPuCDzNde"
      },
      "source": [
        "def generate_text(model, tokenizer, seq_len, seed_text, num_gen_words):\n",
        "    '''\n",
        "    INPUTS:\n",
        "    model : model that was trained on text data\n",
        "    tokenizer : tokenizer that was fit on text data\n",
        "    seq_len : length of training sequence\n",
        "    seed_text : raw string text to serve as the seed\n",
        "    num_gen_words : number of words to be generated by model\n",
        "    '''\n",
        "    \n",
        "    # Final Output\n",
        "    output_text = []\n",
        "    \n",
        "    # Intial Seed Sequence\n",
        "    input_text = seed_text\n",
        "    \n",
        "    # Create num_gen_words\n",
        "    for i in range(num_gen_words):\n",
        "        \n",
        "        # Take the input text string and encode it to a sequence\n",
        "        encoded_text = tokenizer.texts_to_sequences([input_text])[0]\n",
        "        \n",
        "        # Pad sequences to our trained rate (50 words in the video)\n",
        "        pad_encoded = pad_sequences([encoded_text], maxlen=seq_len, truncating='pre')\n",
        "        \n",
        "        # Predict Class Probabilities for each word\n",
        "        pred_word_ind = model.predict_classes(pad_encoded, verbose=0)[0]\n",
        "        \n",
        "        # Grab word\n",
        "        pred_word = tokenizer.index_word[pred_word_ind] \n",
        "        \n",
        "        # Update the sequence of input text (shifting one over with the new word)\n",
        "        input_text += ' ' + pred_word\n",
        "        \n",
        "        output_text.append(pred_word)\n",
        "        \n",
        "    # Make it look like a sentence.\n",
        "    return ' '.join(output_text)"
      ],
      "execution_count": null,
      "outputs": []
    },
    {
      "cell_type": "code",
      "metadata": {
        "id": "4N0ys6Q2zSmB"
      },
      "source": [
        "seed_text=text_sequences[random.randint(0,len(text_sequences))]"
      ],
      "execution_count": null,
      "outputs": []
    },
    {
      "cell_type": "code",
      "metadata": {
        "id": "tK-TYSSGpbh7"
      },
      "source": [
        "model_1=load_model('depressed_final.h5')"
      ],
      "execution_count": null,
      "outputs": []
    },
    {
      "cell_type": "markdown",
      "metadata": {
        "id": "IQlFofJslX69"
      },
      "source": [
        "Finally, we get to generate the text we have wanted:"
      ]
    },
    {
      "cell_type": "code",
      "metadata": {
        "colab": {
          "base_uri": "https://localhost:8080/",
          "height": 35
        },
        "id": "DvywSBAKzeQV",
        "outputId": "f34a25ff-4f89-406a-c948-b66a08bce0be"
      },
      "source": [
        "generate_text(model_1,tokenizer,seq_len,seed_text,num_gen_words=5)"
      ],
      "execution_count": null,
      "outputs": [
        {
          "output_type": "execute_result",
          "data": {
            "application/vnd.google.colaboratory.intrinsic+json": {
              "type": "string"
            },
            "text/plain": [
              "'lca join wa tomorrow happy'"
            ]
          },
          "metadata": {
            "tags": []
          },
          "execution_count": 247
        }
      ]
    },
    {
      "cell_type": "code",
      "metadata": {
        "id": "oG_Rm-tQzldr"
      },
      "source": [
        "# \"missed beautiful finished day try\" was the most coherent text generated"
      ],
      "execution_count": null,
      "outputs": []
    },
    {
      "cell_type": "markdown",
      "metadata": {
        "id": "Ke1NtpCnltAj"
      },
      "source": [
        "## Predictions"
      ]
    },
    {
      "cell_type": "markdown",
      "metadata": {
        "id": "dhlTasc5lylP"
      },
      "source": [
        "For our final part let's predict whether a given text message belongs to an individual suffering from depression or not"
      ]
    },
    {
      "cell_type": "code",
      "metadata": {
        "id": "7FlnOoXNnq9w"
      },
      "source": [
        "from sklearn.model_selection import train_test_split"
      ],
      "execution_count": null,
      "outputs": []
    },
    {
      "cell_type": "code",
      "metadata": {
        "id": "1PxRQM5soWvW"
      },
      "source": [
        "df1=df[70000:90000].dropna()\n",
        "\n",
        "X=df1['Text']\n",
        "y=df1['Condition']\n",
        "\n",
        "msg_train, msg_test, label_train, label_test = train_test_split(X,y,test_size=0.33)"
      ],
      "execution_count": null,
      "outputs": []
    },
    {
      "cell_type": "markdown",
      "metadata": {
        "id": "a-6Z1X-ynbmR"
      },
      "source": [
        "After splitting the newly created dataset into a training set and a test set, we'll create a pipeline object, that performs simultaneously the following operations:\n",
        "- Count Vectorization ( which combines all the steps we have been doing, such as tokenization, removal of punctuation and stop words, lowering the letters and assigning an integer to every unique token ) \n",
        "    --> we'll avoid using words that appear in more than 90% of the messages and also words that do no appear at least twice\n",
        "- Tfidf Transformer ( which makes sure words that appear too frequently don't influence our prediction negatively, by reducind the coefficient that they get multiplied with )\n",
        "- Multinomial NB ( just the usual Naive-Bayes classifier, used to create our predictions, after the data has been brought to a usable format)"
      ]
    },
    {
      "cell_type": "code",
      "metadata": {
        "id": "TAWDgZ2ipNpC"
      },
      "source": [
        "from sklearn.pipeline import Pipeline\n",
        "from sklearn.feature_extraction.text import CountVectorizer\n",
        "from sklearn.feature_extraction.text import TfidfTransformer\n",
        "from sklearn.naive_bayes import MultinomialNB\n",
        "\n",
        "pipeline= Pipeline([( 'cv',CountVectorizer(max_df=0.9,min_df=2,stop_words='english')),\n",
        "            ('tfidf',TfidfTransformer()),\n",
        "            ('classifier',MultinomialNB())\n",
        "          ])"
      ],
      "execution_count": null,
      "outputs": []
    },
    {
      "cell_type": "code",
      "metadata": {
        "colab": {
          "base_uri": "https://localhost:8080/"
        },
        "id": "vG1me-qutV-f",
        "outputId": "1c337d5d-2549-42fc-f1d9-f0d12c257ca4"
      },
      "source": [
        "pipeline.fit(msg_train,label_train)"
      ],
      "execution_count": null,
      "outputs": [
        {
          "output_type": "execute_result",
          "data": {
            "text/plain": [
              "Pipeline(memory=None,\n",
              "         steps=[('cv',\n",
              "                 CountVectorizer(analyzer='word', binary=False,\n",
              "                                 decode_error='strict',\n",
              "                                 dtype=<class 'numpy.int64'>, encoding='utf-8',\n",
              "                                 input='content', lowercase=True, max_df=0.9,\n",
              "                                 max_features=None, min_df=2,\n",
              "                                 ngram_range=(1, 1), preprocessor=None,\n",
              "                                 stop_words='english', strip_accents=None,\n",
              "                                 token_pattern='(?u)\\\\b\\\\w\\\\w+\\\\b',\n",
              "                                 tokenizer=None, vocabulary=None)),\n",
              "                ('tfidf',\n",
              "                 TfidfTransformer(norm='l2', smooth_idf=True,\n",
              "                                  sublinear_tf=False, use_idf=True)),\n",
              "                ('classifier',\n",
              "                 MultinomialNB(alpha=1.0, class_prior=None, fit_prior=True))],\n",
              "         verbose=False)"
            ]
          },
          "metadata": {
            "tags": []
          },
          "execution_count": 255
        }
      ]
    },
    {
      "cell_type": "code",
      "metadata": {
        "id": "oiiqED2OtuUi"
      },
      "source": [
        "pred=pipeline.predict(msg_test)"
      ],
      "execution_count": null,
      "outputs": []
    },
    {
      "cell_type": "markdown",
      "metadata": {
        "id": "Wd0CcWX6vfRX"
      },
      "source": [
        "## Evaluating performance"
      ]
    },
    {
      "cell_type": "code",
      "metadata": {
        "id": "W-cHa53JuJM6"
      },
      "source": [
        "from sklearn.metrics import confusion_matrix, classification_report\n"
      ],
      "execution_count": null,
      "outputs": []
    },
    {
      "cell_type": "code",
      "metadata": {
        "colab": {
          "base_uri": "https://localhost:8080/"
        },
        "id": "Lcj1kv_juLxV",
        "outputId": "bc414c2f-a8ab-4320-de92-63b5ac628601"
      },
      "source": [
        "print(confusion_matrix(pred,label_test))\n",
        "print(classification_report(pred,label_test))"
      ],
      "execution_count": null,
      "outputs": [
        {
          "output_type": "stream",
          "text": [
            "[[2408  729]\n",
            " [ 898 2564]]\n",
            "              precision    recall  f1-score   support\n",
            "\n",
            "   Depressed       0.73      0.77      0.75      3137\n",
            "        Fine       0.78      0.74      0.76      3462\n",
            "\n",
            "    accuracy                           0.75      6599\n",
            "   macro avg       0.75      0.75      0.75      6599\n",
            "weighted avg       0.75      0.75      0.75      6599\n",
            "\n"
          ],
          "name": "stdout"
        }
      ]
    },
    {
      "cell_type": "markdown",
      "metadata": {
        "id": "5w6KzfbtvjWA"
      },
      "source": [
        "Let's try to predict the result from using a text created in the spot:"
      ]
    },
    {
      "cell_type": "code",
      "metadata": {
        "colab": {
          "base_uri": "https://localhost:8080/"
        },
        "id": "UB-g3lG6uOfG",
        "outputId": "60e8ded1-b075-43c3-cb71-765af56d71d2"
      },
      "source": [
        "pipeline.predict(['going out']) #that's about right"
      ],
      "execution_count": null,
      "outputs": [
        {
          "output_type": "execute_result",
          "data": {
            "text/plain": [
              "array(['Fine'], dtype='<U9')"
            ]
          },
          "metadata": {
            "tags": []
          },
          "execution_count": 282
        }
      ]
    },
    {
      "cell_type": "markdown",
      "metadata": {
        "id": "VqcHzZJ2vrJg"
      },
      "source": [
        "We also got \"Depressed\" when the text that was typed was \" Life is meaningless \", which seems like an honest prediction"
      ]
    },
    {
      "cell_type": "markdown",
      "metadata": {
        "id": "OutNwU25v1XN"
      },
      "source": [
        "## Furure work"
      ]
    },
    {
      "cell_type": "markdown",
      "metadata": {
        "id": "HOOQQOgTv3th"
      },
      "source": [
        "Detecting a medical condition is solving one half of the problem, so work still has to be done in order to ensure that the suffering individual gets the best medical attention. \n",
        "\n",
        "Such procedures could also include creating a chatbot to provide the pacients someone to talk to.\n",
        "\n"
      ]
    },
    {
      "cell_type": "markdown",
      "metadata": {
        "id": "45QrLjbAweKp"
      },
      "source": [
        "## Conclusions\n",
        "\n"
      ]
    },
    {
      "cell_type": "markdown",
      "metadata": {
        "id": "JygV-10AwomP"
      },
      "source": [
        "Individuals suffering from depression tend to write longer mesages ( > 150 words ).\n",
        "\n",
        "They also use less VERBS, less calls to action, and sentiments such as \"love\" and \"hope\"appear with predilection throughout their conversations.\n",
        "\n",
        "The model created achieved 75% accuracy at predicting depression, given a created-on-the-spot message."
      ]
    },
    {
      "cell_type": "markdown",
      "metadata": {
        "id": "sCVIdBtJxb_T"
      },
      "source": [
        "Thank you for embarking with me on this journey!\n",
        "\n",
        "To your next level,\n",
        "      Mihalceanu Cristian"
      ]
    }
  ]
}